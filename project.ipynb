{
 "cells": [
  {
   "cell_type": "code",
   "execution_count": null,
   "metadata": {
    "collapsed": false
   },
   "outputs": [],
   "source": [
    "from google.colab import drive\n",
    "drive.mount('/content/drive')"
   ]
  },
  {
   "cell_type": "code",
   "execution_count": null,
   "metadata": {},
   "outputs": [],
   "source": [
    "import csv\n",
    "import glob\n",
    "import imageio.v3 as iio\n",
    "import matplotlib\n",
    "import numpy as np\n",
    "import os\n",
    "import pandas as pd\n",
    "import pickle"
   ]
  },
  {
   "cell_type": "code",
   "execution_count": null,
   "metadata": {},
   "outputs": [],
   "source": [
    "ROOT_FILE_PATH = \"/content/drive/My Drive/2023-Machine-Learning-Dataset\";\n",
    "SUBJ_LIST = [\"subj01\", \"subj02\", \"subj03\", \"subj04\", \"subj05\", \"subj06\", \"subj07\", \"subj08\"];\n",
    "AREAS = [\"prf-visualrois\", \"floc-bodies\", \"floc-faces\", \"floc-places\", \"floc-words\", \"streams\", \"all-vertices\"];\n",
    "\n",
    "def ReadNpyFile(folderdir):\n",
    "  retdic = {};\n",
    "  for path in glob.glob(folderdir + \"/*.npy\"):\n",
    "    filename = os.path.splitext(path)[0].split(\"/\")[-1];\n",
    "    retdic[filename] = np.load(path, allow_pickle = True);\n",
    "  return retdic;\n",
    "\n",
    "def ReadFmriFile(folderdir):\n",
    "  retdic = {};\n",
    "  for path in glob.glob(folderdir + \"/*.npy\"):\n",
    "    filename = os.path.splitext(path)[0].split(\"/\")[-1];\n",
    "    retdic[filename[0]] = np.load(path, allow_pickle = True);\n",
    "  return retdic;\n",
    "\n",
    "def ReadMaskFile(folderdir):\n",
    "  retdic = {};\n",
    "  for path in glob.glob(folderdir + \"/*.npy\"):\n",
    "    filename = os.path.splitext(path)[0].split(\"/\")[-1];\n",
    "    for area in AREAS:\n",
    "      if area in filename:\n",
    "        filename = \"\".join(i.strip(\"_\") for i in filename.split(area));\n",
    "        break;\n",
    "    if area not in retdic:\n",
    "      retdic[area] = {};\n",
    "    retdic[area][filename] = np.load(path, allow_pickle = True) if filename[0] != \"m\" else np.load(path, allow_pickle = True).item();\n",
    "  return retdic;  \n",
    "\n",
    "def ReadPngFile(folderdir):\n",
    "  retdic = {};\n",
    "  for path in glob.glob(folderdir + \"/*.png\"):\n",
    "    filename = os.path.splitext(path)[0].split(\"/\")[-1];\n",
    "    retdic[path.split(\"/\")[-1]] = iio.imread(path);\n",
    "  return retdic;\n"
   ]
  },
  {
   "cell_type": "code",
   "execution_count": null,
   "metadata": {},
   "outputs": [],
   "source": [
    "def read_subject(subject):\n",
    "  retdic = {};\n",
    "  retdic[\"training_img\"] = ReadPngFile(os.path.join(ROOT_FILE_PATH, subject, \"training_split\", \"training_images\"))\n",
    "  retdic[\"training_fmri\"] = ReadNpyFile(os.path.join(ROOT_FILE_PATH, subject, \"training_split\", \"training_fmri\"));\n",
    "  retdic[\"test_fmri\"] = ReadNpyFile(os.path.join(ROOT_FILE_PATH, subject, \"test_split\", \"test_fmri\"));\n",
    "  retdic[\"roi_masks\"] = ReadNpyFile(os.path.join(ROOT_FILE_PATH, subject, \"roi_masks\"));\n",
    "  return retdic;"
   ]
  },
  {
   "cell_type": "code",
   "execution_count": null,
   "metadata": {},
   "outputs": [],
   "source": [
    "class ReadObject:\n",
    "  subject = None;     # string\n",
    "  images = None;      # dict(string -> ndarray, uint8)\n",
    "  fmri = None;        # dict(string -> ndarray, float32)\n",
    "  masks = None;       # dict(string \"AREA\" -> (dict(int -> string), string \"HEMISPHERE, \" -> ndarray))\n",
    "  image_data = None;  # dataframe\n",
    "\n",
    "  def load(self, subject, mode = \"train\"):\n",
    "    #Mode = \"train\" | \"test\"\n",
    "    if(subject != self.subject):\n",
    "      self.subject = subject;\n",
    "      self.masks = ReadMaskFile(os.path.join(ROOT_FILE_PATH, subject , \"roi_masks\"));\n",
    "      self.image_data = pd.read_csv(os.path.join(ROOT_FILE_PATH, \"image_infos\", f\"{subject}_infos_train.csv\"));\n",
    "    if(mode == \"train\"):\n",
    "      self.images = ReadPngFile(os.path.join(ROOT_FILE_PATH, subject, \"training_split\", \"training_images\"));\n",
    "      self.fmri = ReadNpyFile(os.path.join(ROOT_FILE_PATH, subject, \"training_split\", \"training_fmri\"));\n",
    "    elif(mode == \"test\"):\n",
    "      self.images = None;\n",
    "      self.fmri = ReadNpyFile(os.path.join(ROOT_FILE_PATH, subject, \"test_split\", \"test_fmri\"));\n",
    "\n",
    "  def get_hsv_image(self, image_name):\n",
    "    return matplotlib.colors.rgb_to_hsv(self.images[image_name]);\n",
    "\n",
    "  def sample_data(self, sample_number = 100):\n",
    "    if(self.images == None):\n",
    "      return None;\n",
    "    #TODO: Sample Data ICARUS PLEASE DO THIS"
   ]
  },
  {
   "cell_type": "code",
   "execution_count": null,
   "metadata": {},
   "outputs": [],
   "source": [
    "DATA = ReadObject(); \n",
    "DATA.load(SUBJ_LIST[0]); #Requires 5GB approx."
   ]
  }
 ],
 "metadata": {
  "kernelspec": {
   "display_name": "scaling_vis_enc",
   "language": "python",
   "name": "python3"
  },
  "language_info": {
   "codemirror_mode": {
    "name": "ipython",
    "version": 3
   },
   "file_extension": ".py",
   "mimetype": "text/x-python",
   "name": "python",
   "nbconvert_exporter": "python",
   "pygments_lexer": "ipython3",
   "version": "3.8.0"
  }
 },
 "nbformat": 4,
 "nbformat_minor": 2
}
