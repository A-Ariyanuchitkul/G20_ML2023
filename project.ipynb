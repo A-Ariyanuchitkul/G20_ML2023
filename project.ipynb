{
 "cells": [
  {
   "cell_type": "code",
   "execution_count": 3,
   "metadata": {
    "collapsed": false,
    "ExecuteTime": {
     "end_time": "2023-11-20T10:44:38.683428Z",
     "start_time": "2023-11-20T10:44:38.676373Z"
    }
   },
   "outputs": [],
   "source": [
    "# from google.colab import drive\n",
    "# drive.mount('/content/drive')"
   ]
  },
  {
   "cell_type": "code",
   "execution_count": 4,
   "outputs": [
    {
     "data": {
      "text/plain": "'/Users/adminpc-macmini/Documents/Code/Libaries/python_jupyter_venv/bin/python'"
     },
     "execution_count": 4,
     "metadata": {},
     "output_type": "execute_result"
    }
   ],
   "source": [
    "import sys\n",
    "print(sys.executable)"
   ],
   "metadata": {
    "collapsed": false,
    "ExecuteTime": {
     "end_time": "2023-11-20T10:44:38.851552Z",
     "start_time": "2023-11-20T10:44:38.843991Z"
    }
   }
  },
  {
   "cell_type": "code",
   "execution_count": 5,
   "outputs": [
    {
     "name": "stdout",
     "output_type": "stream",
     "text": [
      "Available kernels:\r\n",
      "  python3    /Users/adminpc-macmini/Documents/Code/Libaries/python_jupyter_venv/share/jupyter/kernels/python3\r\n"
     ]
    }
   ],
   "source": [
    "!jupyter kernelspec list"
   ],
   "metadata": {
    "collapsed": false,
    "ExecuteTime": {
     "end_time": "2023-11-20T10:44:40.238076Z",
     "start_time": "2023-11-20T10:44:39.028111Z"
    }
   }
  },
  {
   "cell_type": "code",
   "execution_count": 6,
   "metadata": {
    "ExecuteTime": {
     "end_time": "2023-11-20T10:44:57.888036Z",
     "start_time": "2023-11-20T10:44:40.185949Z"
    }
   },
   "outputs": [],
   "source": [
    "import glob\n",
    "# import imageio as iio\n",
    "# import matplotlib\n",
    "import numpy as np\n",
    "import os\n",
    "import pandas as pd"
   ]
  },
  {
   "cell_type": "code",
   "execution_count": 7,
   "metadata": {
    "collapsed": false,
    "ExecuteTime": {
     "end_time": "2023-11-20T10:45:05.899433Z",
     "start_time": "2023-11-20T10:44:57.889021Z"
    }
   },
   "outputs": [],
   "source": [
    "from skimage import color\n",
    "from skimage import io"
   ]
  },
  {
   "cell_type": "code",
   "execution_count": 8,
   "metadata": {
    "collapsed": false,
    "ExecuteTime": {
     "end_time": "2023-11-20T10:45:05.905411Z",
     "start_time": "2023-11-20T10:45:05.902376Z"
    }
   },
   "outputs": [],
   "source": [
    "ROOT_FILE_PATH = \"/Users/adminpc-macmini/Library/CloudStorage/GoogleDrive-jeremias.rueck@gmail.com/Meine Ablage/Google Drive - Code/NTHU/final_project/data\"\n",
    "AREAS = [\"prf-visualrois\", \"floc-bodies\", \"floc-faces\", \"floc-places\", \"floc-words\", \"streams\", \"all-vertices\"]\n",
    "SUBJ_LIST = [\"subj01\", \"subj02\", \"subj03\", \"subj04\", \"subj05\", \"subj06\", \"subj07\", \"subj08\"]\n",
    "MASK_KEYS = [\"lh.fsaverage_space\", \"rh.fsaverage_space\", \"lh.space\", \"rh.space\", \"mapping\"]"
   ]
  },
  {
   "cell_type": "code",
   "execution_count": 9,
   "metadata": {
    "ExecuteTime": {
     "end_time": "2023-11-20T10:45:05.924535Z",
     "start_time": "2023-11-20T10:45:05.906311Z"
    }
   },
   "outputs": [],
   "source": [
    "def ReadNpyFile(dir_path):\n",
    "  return_dic = {}\n",
    "  for path in glob.glob(dir_path + \"/*.npy\"):\n",
    "    filename = os.path.splitext(path)[0].split(\"/\")[-1]\n",
    "    return_dic[filename] = np.load(path, allow_pickle = True)\n",
    "  return return_dic\n",
    "\n",
    "def ReadFmriFile(dir_path):\n",
    "  return_dic = {}\n",
    "  for path in glob.glob(dir_path + \"/*.npy\"):\n",
    "    filename = os.path.splitext(path)[0].split(\"/\")[-1]\n",
    "    return_dic[filename[0]] = np.load(path, allow_pickle = True)\n",
    "  return return_dic\n",
    "\n",
    "def ReadMaskFile(dir_path):\n",
    "  return_dic = {area: {} for area in AREAS}\n",
    "  for path in glob.glob(dir_path + \"/*.npy\"):\n",
    "    filename = os.path.splitext(path)[0].split(\"/\")[-1]\n",
    "    for area in AREAS:\n",
    "      if area in filename:\n",
    "        filename = \"\".join(i.strip(\"_\") for i in filename.split(area))\n",
    "        return_dic[area][filename] = np.load(path, allow_pickle = True) if filename[0] != \"m\" else np.load(path, allow_pickle = True).item()\n",
    "        break\n",
    "  return return_dic\n",
    "\n",
    "def FetchPngFile(dir_path, index, mode = \"rgb\"):\n",
    "  # img = iio.v3.imread()\n",
    "  img = io.imread(os.path.join(dir_path, f'{index}.png'))\n",
    "  if mode == \"rgb\":\n",
    "    return img\n",
    "  if mode == \"hsv\":\n",
    "    return color.rgb2hsv(img)\n",
    "    # return matplotlib.colors.rgb_to_hsv(img)\n",
    "  if mode == \"gray\":\n",
    "    return color.rgb2gray(img)\n",
    "    # return np.dot(img, [0.299, 0.587, 0.114])"
   ]
  },
  {
   "cell_type": "code",
   "execution_count": 10,
   "metadata": {
    "collapsed": false,
    "ExecuteTime": {
     "end_time": "2023-11-20T10:45:05.931096Z",
     "start_time": "2023-11-20T10:45:05.919445Z"
    }
   },
   "outputs": [],
   "source": [
    "def train_val_split(x, y, ratio, random_state=42):\n",
    "  \n",
    "  r = np.random.RandomState(random_state)\n",
    "  \n",
    "  idx = r.permutation(x.index)\n",
    "  x_per = x.reindex(idx)\n",
    "  y_per = y.reindex(idx)\n",
    "\n",
    "  train_size = int(x.shape[0] * ratio)\n",
    "  \n",
    "  x_train = x_per[0:train_size]\n",
    "  y_train = y_per[0:train_size]\n",
    "  \n",
    "  x_val = x_per[train_size:]\n",
    "  y_val = y_per[train_size:]\n",
    "  \n",
    "  print('Training_dimension: ' + str(x_train.shape) + ' | ' + str(y_train.shape))\n",
    "  print('Validation_dimension: ' + str(x_val.shape) + ' | ' + str(y_val.shape))\n",
    "\n",
    "  return x_train, x_val, y_train, y_val"
   ]
  },
  {
   "cell_type": "code",
   "execution_count": 11,
   "metadata": {
    "ExecuteTime": {
     "end_time": "2023-11-20T10:45:05.941417Z",
     "start_time": "2023-11-20T10:45:05.938370Z"
    }
   },
   "outputs": [],
   "source": [
    "class ReadObject:\n",
    "  \n",
    "  fmri = None           # dict(string -> ndarray, float32)\n",
    "  masks = None          # dict(string \"AREA\" -> (dict(int -> string), string \"HEMISPHERE, \" -> ndarray))\n",
    "  \n",
    "  image_labels = None   # dataframe\n",
    "  label_names = None    # list\n",
    "\n",
    "  subject = None        # string\n",
    "  \n",
    "  def __init__(self, subject):\n",
    "    self.subject = subject\n",
    "\n",
    "  # Mode = \"train\" | \"test\"\n",
    "  def load(self, mode = \"train\"):\n",
    "    \n",
    "    self.image_labels = pd.read_csv(os.path.join(ROOT_FILE_PATH, \"image_infos\", f\"{self.subject}_infos_train.csv\"))\n",
    "    self.image_labels = self.image_labels.drop(self.image_labels.columns[[0, 1]], axis=1)\n",
    "    self.label_names = self.image_labels.columns\n",
    "    \n",
    "    self.image_labels = self.image_labels.to_numpy(dtype=int)\n",
    "\n",
    "    print('Images: ' + str(self.image_labels.shape[0]))\n",
    "    print('Labels: ' + str(self.image_labels.shape[1]))\n",
    "    \n",
    "    self.masks = ReadMaskFile(os.path.join(ROOT_FILE_PATH, self.subject , \"roi_masks\"))\n",
    "    print('Masks: ' + str(len(self.masks.keys())))\n",
    "        \n",
    "    if mode == \"train\":\n",
    "      self.fmri = ReadFmriFile(os.path.join(ROOT_FILE_PATH, self.subject, \"training_split\", \"training_fmri\"))\n",
    "    elif mode == \"test\":\n",
    "      self.fmri = ReadFmriFile(os.path.join(ROOT_FILE_PATH, self.subject, \"test_split\", \"test_fmri\"))\n",
    "\n",
    "  def split_data(self, count=None, ratio=None, permutate=True, image_mode = \"rgb\", random_state=42):\n",
    "    \n",
    "    if ratio is None:\n",
    "      ratio = 1\n",
    "    \n",
    "    random_state = np.random.RandomState(random_state)\n",
    "    \n",
    "    if count is not None and count > 0:\n",
    "      fmri_l_copy = self.fmri['l'][:count]\n",
    "      fmri_r_copy = self.fmri['r'][:count]\n",
    "      labels_copy = self.image_labels[:count]\n",
    "    else:\n",
    "      fmri_l_copy = self.fmri['l']\n",
    "      fmri_r_copy = self.fmri['r']\n",
    "      labels_copy = self.image_labels\n",
    "    \n",
    "    loaded_images = np.stack([FetchPngFile(os.path.join(ROOT_FILE_PATH, self.subject,\n",
    "                      \"training_split\", \"training_images\"), i, mode = image_mode) for i in range(labels_copy.shape[0])])\n",
    "    \n",
    "    if permutate:\n",
    "      \n",
    "        idx = random_state.permutation(labels_copy.shape[0])\n",
    "        \n",
    "        fmri_l_copy = fmri_l_copy[idx]\n",
    "        fmri_r_copy = fmri_r_copy[idx]\n",
    "        labels_copy = labels_copy[idx]\n",
    "        loaded_images = loaded_images[idx]\n",
    "        \n",
    "    train_size = int(labels_copy.shape[0] * ratio)\n",
    "  \n",
    "    fmri_l_train = fmri_l_copy[0:train_size]\n",
    "    fmri_r_train = fmri_r_copy[0:train_size]\n",
    "    labels_train = labels_copy[0:train_size]\n",
    "    images_train = loaded_images[0:train_size]\n",
    "    \n",
    "    fmri_l_val = fmri_l_copy[train_size:]\n",
    "    fmri_r_val = fmri_r_copy[train_size:]\n",
    "    labels_val = labels_copy[train_size:]\n",
    "    images_val = loaded_images[train_size:]\n",
    "    \n",
    "    return (labels_train, labels_val), (fmri_l_train, fmri_l_val), (fmri_r_train, fmri_r_val), (images_train, images_val)"
   ]
  },
  {
   "cell_type": "code",
   "execution_count": 12,
   "metadata": {
    "ExecuteTime": {
     "end_time": "2023-11-20T10:45:06.815372Z",
     "start_time": "2023-11-20T10:45:05.942779Z"
    }
   },
   "outputs": [
    {
     "name": "stdout",
     "output_type": "stream",
     "text": [
      "Images: 5000\n",
      "Labels: 133\n",
      "Masks: 7\n"
     ]
    }
   ],
   "source": [
    "obj = ReadObject(SUBJ_LIST[0]) \n",
    "obj.load()"
   ]
  },
  {
   "cell_type": "code",
   "execution_count": 13,
   "metadata": {
    "collapsed": false,
    "ExecuteTime": {
     "end_time": "2023-11-20T10:46:10.112073Z",
     "start_time": "2023-11-20T10:45:06.820833Z"
    }
   },
   "outputs": [],
   "source": [
    "(\n",
    "  (labels_train, labels_val), (fmri_l_train, fmri_l_val), \n",
    "  (fmri_r_train, fmri_r_val), (images_train, images_val)\n",
    ") = (obj.split_data(count=5000, ratio=0.995, image_mode= \"rgb\"))"
   ]
  },
  {
   "cell_type": "code",
   "execution_count": 14,
   "metadata": {
    "collapsed": false,
    "ExecuteTime": {
     "end_time": "2023-11-20T10:46:10.114790Z",
     "start_time": "2023-11-20T10:46:10.107842Z"
    }
   },
   "outputs": [
    {
     "name": "stdout",
     "output_type": "stream",
     "text": [
      "(4975, 133)\n",
      "(25, 133)\n",
      "(4975, 19004)\n",
      "(25, 19004)\n",
      "(4975, 20544)\n",
      "(25, 20544)\n",
      "(4975, 425, 425, 3)\n",
      "(25, 425, 425, 3)\n"
     ]
    }
   ],
   "source": [
    "print(labels_train.shape)\n",
    "print(labels_val.shape)\n",
    "print(fmri_l_train.shape)\n",
    "print(fmri_l_val.shape)\n",
    "print(fmri_r_train.shape)\n",
    "print(fmri_r_val.shape)\n",
    "print(images_train.shape)\n",
    "print(images_val.shape)"
   ]
  },
  {
   "cell_type": "code",
   "execution_count": 25,
   "outputs": [
    {
     "name": "stdout",
     "output_type": "stream",
     "text": [
      "(4975, 39548)\n"
     ]
    }
   ],
   "source": [
    "X_train = combined_array = np.concatenate((fmri_l_train, fmri_r_train), axis=1)\n",
    "print(X_train.shape)"
   ],
   "metadata": {
    "collapsed": false,
    "ExecuteTime": {
     "end_time": "2023-11-20T10:56:51.922852Z",
     "start_time": "2023-11-20T10:56:49.953170Z"
    }
   }
  },
  {
   "cell_type": "code",
   "execution_count": 36,
   "outputs": [
    {
     "name": "stdout",
     "output_type": "stream",
     "text": [
      "6.2208066\n",
      "-6.224722\n"
     ]
    }
   ],
   "source": [
    "print(np.max(X_train))\n",
    "print(np.min(X_train))"
   ],
   "metadata": {
    "collapsed": false,
    "ExecuteTime": {
     "end_time": "2023-11-20T11:06:53.626400Z",
     "start_time": "2023-11-20T11:06:52.169429Z"
    }
   }
  },
  {
   "cell_type": "code",
   "execution_count": 26,
   "outputs": [
    {
     "name": "stdout",
     "output_type": "stream",
     "text": [
      "(4975, 133)\n"
     ]
    }
   ],
   "source": [
    "Y_train = labels_train\n",
    "print(Y_train.shape)"
   ],
   "metadata": {
    "collapsed": false,
    "ExecuteTime": {
     "end_time": "2023-11-20T10:58:36.940865Z",
     "start_time": "2023-11-20T10:58:36.930857Z"
    }
   }
  },
  {
   "cell_type": "code",
   "execution_count": 28,
   "outputs": [],
   "source": [
    "from tensorflow import keras\n",
    "\n",
    "model = keras.models.Sequential()\n",
    "model.add(keras.layers.Conv1D(filters=32, kernel_size=(3,), activation=\"relu\", input_shape=(39548, 1)))\n",
    "model.add(keras.layers.Conv1D(filters=32, kernel_size=(3,), activation=\"relu\"))\n",
    "model.add(keras.layers.MaxPooling1D())\n",
    "\n",
    "model.add(keras.layers.Conv1D(filters=64, kernel_size=(3,), activation=\"relu\"))\n",
    "model.add(keras.layers.Conv1D(filters=64, kernel_size=(3,), activation=\"relu\"))\n",
    "model.add(keras.layers.MaxPooling1D())\n",
    "\n",
    "model.add(keras.layers.Conv1D(filters=128, kernel_size=(3,), activation=\"relu\"))\n",
    "model.add(keras.layers.Conv1D(filters=128, kernel_size=(3,), activation=\"relu\"))\n",
    "model.add(keras.layers.MaxPooling1D())\n",
    "\n",
    "model.add(keras.layers.Conv1D(filters=128, kernel_size=(3,), activation=\"relu\"))\n",
    "model.add(keras.layers.Conv1D(filters=128, kernel_size=(3,), activation=\"relu\"))\n",
    "model.add(keras.layers.MaxPooling1D())\n",
    "\n",
    "model.add(keras.layers.Flatten())\n",
    "model.add(keras.layers.Dense(1024, activation=\"relu\"))\n",
    "model.add(keras.layers.Dense(512, activation=\"relu\"))\n",
    "\n",
    "model.add(keras.layers.Dense(133, activation=\"softmax\"))"
   ],
   "metadata": {
    "collapsed": false,
    "ExecuteTime": {
     "end_time": "2023-11-20T10:59:22.914715Z",
     "start_time": "2023-11-20T10:59:19.048738Z"
    }
   }
  },
  {
   "cell_type": "code",
   "execution_count": 29,
   "outputs": [
    {
     "name": "stdout",
     "output_type": "stream",
     "text": [
      "Model: \"sequential_5\"\n",
      "_________________________________________________________________\n",
      " Layer (type)                Output Shape              Param #   \n",
      "=================================================================\n",
      " conv1d_12 (Conv1D)          (None, 39546, 32)         128       \n",
      "                                                                 \n",
      " conv1d_13 (Conv1D)          (None, 39544, 32)         3104      \n",
      "                                                                 \n",
      " max_pooling1d_4 (MaxPooling  (None, 19772, 32)        0         \n",
      " 1D)                                                             \n",
      "                                                                 \n",
      " conv1d_14 (Conv1D)          (None, 19770, 64)         6208      \n",
      "                                                                 \n",
      " conv1d_15 (Conv1D)          (None, 19768, 64)         12352     \n",
      "                                                                 \n",
      " max_pooling1d_5 (MaxPooling  (None, 9884, 64)         0         \n",
      " 1D)                                                             \n",
      "                                                                 \n",
      " conv1d_16 (Conv1D)          (None, 9882, 128)         24704     \n",
      "                                                                 \n",
      " conv1d_17 (Conv1D)          (None, 9880, 128)         49280     \n",
      "                                                                 \n",
      " max_pooling1d_6 (MaxPooling  (None, 4940, 128)        0         \n",
      " 1D)                                                             \n",
      "                                                                 \n",
      " conv1d_18 (Conv1D)          (None, 4938, 128)         49280     \n",
      "                                                                 \n",
      " conv1d_19 (Conv1D)          (None, 4936, 128)         49280     \n",
      "                                                                 \n",
      " max_pooling1d_7 (MaxPooling  (None, 2468, 128)        0         \n",
      " 1D)                                                             \n",
      "                                                                 \n",
      " flatten_1 (Flatten)         (None, 315904)            0         \n",
      "                                                                 \n",
      " dense_6 (Dense)             (None, 1024)              323486720 \n",
      "                                                                 \n",
      " dense_7 (Dense)             (None, 512)               524800    \n",
      "                                                                 \n",
      " dense_8 (Dense)             (None, 133)               68229     \n",
      "                                                                 \n",
      "=================================================================\n",
      "Total params: 324,274,085\n",
      "Trainable params: 324,274,085\n",
      "Non-trainable params: 0\n",
      "_________________________________________________________________\n"
     ]
    }
   ],
   "source": [
    "model.compile(optimizer=\"rmsprop\", loss=\"categorical_crossentropy\", metrics=[\"accuracy\"])\n",
    "model.summary()"
   ],
   "metadata": {
    "collapsed": false,
    "ExecuteTime": {
     "end_time": "2023-11-20T10:59:23.017620Z",
     "start_time": "2023-11-20T10:59:22.926165Z"
    }
   }
  },
  {
   "cell_type": "code",
   "execution_count": 30,
   "outputs": [
    {
     "name": "stdout",
     "output_type": "stream",
     "text": [
      "Epoch 1/10\n",
      " 57/156 [=========>....................] - ETA: 9:54 - loss: 1377211059798016.0000 - accuracy: 0.0510 "
     ]
    },
    {
     "ename": "KeyboardInterrupt",
     "evalue": "",
     "output_type": "error",
     "traceback": [
      "\u001B[0;31m---------------------------------------------------------------------------\u001B[0m",
      "\u001B[0;31mKeyboardInterrupt\u001B[0m                         Traceback (most recent call last)",
      "\u001B[0;32m/var/folders/cs/dt8tkdln42v8qsy70hxnwd3c0000gn/T/ipykernel_23911/1048631954.py\u001B[0m in \u001B[0;36m<module>\u001B[0;34m\u001B[0m\n\u001B[0;32m----> 1\u001B[0;31m \u001B[0mmodel\u001B[0m\u001B[0;34m.\u001B[0m\u001B[0mfit\u001B[0m\u001B[0;34m(\u001B[0m\u001B[0mX_train\u001B[0m\u001B[0;34m.\u001B[0m\u001B[0mreshape\u001B[0m\u001B[0;34m(\u001B[0m\u001B[0;34m-\u001B[0m\u001B[0;36m1\u001B[0m\u001B[0;34m,\u001B[0m \u001B[0mX_train\u001B[0m\u001B[0;34m.\u001B[0m\u001B[0mshape\u001B[0m\u001B[0;34m[\u001B[0m\u001B[0;36m1\u001B[0m\u001B[0;34m]\u001B[0m\u001B[0;34m,\u001B[0m \u001B[0;36m1\u001B[0m\u001B[0;34m)\u001B[0m\u001B[0;34m,\u001B[0m \u001B[0mY_train\u001B[0m\u001B[0;34m,\u001B[0m \u001B[0mbatch_size\u001B[0m\u001B[0;34m=\u001B[0m\u001B[0;36m32\u001B[0m\u001B[0;34m,\u001B[0m \u001B[0mepochs\u001B[0m\u001B[0;34m=\u001B[0m\u001B[0;36m10\u001B[0m\u001B[0;34m)\u001B[0m\u001B[0;34m\u001B[0m\u001B[0;34m\u001B[0m\u001B[0m\n\u001B[0m",
      "\u001B[0;32m~/Documents/Code/Libaries/python_jupyter_venv/lib/python3.7/site-packages/keras/utils/traceback_utils.py\u001B[0m in \u001B[0;36merror_handler\u001B[0;34m(*args, **kwargs)\u001B[0m\n\u001B[1;32m     63\u001B[0m         \u001B[0mfiltered_tb\u001B[0m \u001B[0;34m=\u001B[0m \u001B[0;32mNone\u001B[0m\u001B[0;34m\u001B[0m\u001B[0;34m\u001B[0m\u001B[0m\n\u001B[1;32m     64\u001B[0m         \u001B[0;32mtry\u001B[0m\u001B[0;34m:\u001B[0m\u001B[0;34m\u001B[0m\u001B[0;34m\u001B[0m\u001B[0m\n\u001B[0;32m---> 65\u001B[0;31m             \u001B[0;32mreturn\u001B[0m \u001B[0mfn\u001B[0m\u001B[0;34m(\u001B[0m\u001B[0;34m*\u001B[0m\u001B[0margs\u001B[0m\u001B[0;34m,\u001B[0m \u001B[0;34m**\u001B[0m\u001B[0mkwargs\u001B[0m\u001B[0;34m)\u001B[0m\u001B[0;34m\u001B[0m\u001B[0;34m\u001B[0m\u001B[0m\n\u001B[0m\u001B[1;32m     66\u001B[0m         \u001B[0;32mexcept\u001B[0m \u001B[0mException\u001B[0m \u001B[0;32mas\u001B[0m \u001B[0me\u001B[0m\u001B[0;34m:\u001B[0m\u001B[0;34m\u001B[0m\u001B[0;34m\u001B[0m\u001B[0m\n\u001B[1;32m     67\u001B[0m             \u001B[0mfiltered_tb\u001B[0m \u001B[0;34m=\u001B[0m \u001B[0m_process_traceback_frames\u001B[0m\u001B[0;34m(\u001B[0m\u001B[0me\u001B[0m\u001B[0;34m.\u001B[0m\u001B[0m__traceback__\u001B[0m\u001B[0;34m)\u001B[0m\u001B[0;34m\u001B[0m\u001B[0;34m\u001B[0m\u001B[0m\n",
      "\u001B[0;32m~/Documents/Code/Libaries/python_jupyter_venv/lib/python3.7/site-packages/keras/engine/training.py\u001B[0m in \u001B[0;36mfit\u001B[0;34m(self, x, y, batch_size, epochs, verbose, callbacks, validation_split, validation_data, shuffle, class_weight, sample_weight, initial_epoch, steps_per_epoch, validation_steps, validation_batch_size, validation_freq, max_queue_size, workers, use_multiprocessing)\u001B[0m\n\u001B[1;32m   1648\u001B[0m                         ):\n\u001B[1;32m   1649\u001B[0m                             \u001B[0mcallbacks\u001B[0m\u001B[0;34m.\u001B[0m\u001B[0mon_train_batch_begin\u001B[0m\u001B[0;34m(\u001B[0m\u001B[0mstep\u001B[0m\u001B[0;34m)\u001B[0m\u001B[0;34m\u001B[0m\u001B[0;34m\u001B[0m\u001B[0m\n\u001B[0;32m-> 1650\u001B[0;31m                             \u001B[0mtmp_logs\u001B[0m \u001B[0;34m=\u001B[0m \u001B[0mself\u001B[0m\u001B[0;34m.\u001B[0m\u001B[0mtrain_function\u001B[0m\u001B[0;34m(\u001B[0m\u001B[0miterator\u001B[0m\u001B[0;34m)\u001B[0m\u001B[0;34m\u001B[0m\u001B[0;34m\u001B[0m\u001B[0m\n\u001B[0m\u001B[1;32m   1651\u001B[0m                             \u001B[0;32mif\u001B[0m \u001B[0mdata_handler\u001B[0m\u001B[0;34m.\u001B[0m\u001B[0mshould_sync\u001B[0m\u001B[0;34m:\u001B[0m\u001B[0;34m\u001B[0m\u001B[0;34m\u001B[0m\u001B[0m\n\u001B[1;32m   1652\u001B[0m                                 \u001B[0mcontext\u001B[0m\u001B[0;34m.\u001B[0m\u001B[0masync_wait\u001B[0m\u001B[0;34m(\u001B[0m\u001B[0;34m)\u001B[0m\u001B[0;34m\u001B[0m\u001B[0;34m\u001B[0m\u001B[0m\n",
      "\u001B[0;32m~/Documents/Code/Libaries/python_jupyter_venv/lib/python3.7/site-packages/tensorflow/python/util/traceback_utils.py\u001B[0m in \u001B[0;36merror_handler\u001B[0;34m(*args, **kwargs)\u001B[0m\n\u001B[1;32m    148\u001B[0m     \u001B[0mfiltered_tb\u001B[0m \u001B[0;34m=\u001B[0m \u001B[0;32mNone\u001B[0m\u001B[0;34m\u001B[0m\u001B[0;34m\u001B[0m\u001B[0m\n\u001B[1;32m    149\u001B[0m     \u001B[0;32mtry\u001B[0m\u001B[0;34m:\u001B[0m\u001B[0;34m\u001B[0m\u001B[0;34m\u001B[0m\u001B[0m\n\u001B[0;32m--> 150\u001B[0;31m       \u001B[0;32mreturn\u001B[0m \u001B[0mfn\u001B[0m\u001B[0;34m(\u001B[0m\u001B[0;34m*\u001B[0m\u001B[0margs\u001B[0m\u001B[0;34m,\u001B[0m \u001B[0;34m**\u001B[0m\u001B[0mkwargs\u001B[0m\u001B[0;34m)\u001B[0m\u001B[0;34m\u001B[0m\u001B[0;34m\u001B[0m\u001B[0m\n\u001B[0m\u001B[1;32m    151\u001B[0m     \u001B[0;32mexcept\u001B[0m \u001B[0mException\u001B[0m \u001B[0;32mas\u001B[0m \u001B[0me\u001B[0m\u001B[0;34m:\u001B[0m\u001B[0;34m\u001B[0m\u001B[0;34m\u001B[0m\u001B[0m\n\u001B[1;32m    152\u001B[0m       \u001B[0mfiltered_tb\u001B[0m \u001B[0;34m=\u001B[0m \u001B[0m_process_traceback_frames\u001B[0m\u001B[0;34m(\u001B[0m\u001B[0me\u001B[0m\u001B[0;34m.\u001B[0m\u001B[0m__traceback__\u001B[0m\u001B[0;34m)\u001B[0m\u001B[0;34m\u001B[0m\u001B[0;34m\u001B[0m\u001B[0m\n",
      "\u001B[0;32m~/Documents/Code/Libaries/python_jupyter_venv/lib/python3.7/site-packages/tensorflow/python/eager/polymorphic_function/polymorphic_function.py\u001B[0m in \u001B[0;36m__call__\u001B[0;34m(self, *args, **kwds)\u001B[0m\n\u001B[1;32m    878\u001B[0m \u001B[0;34m\u001B[0m\u001B[0m\n\u001B[1;32m    879\u001B[0m       \u001B[0;32mwith\u001B[0m \u001B[0mOptionalXlaContext\u001B[0m\u001B[0;34m(\u001B[0m\u001B[0mself\u001B[0m\u001B[0;34m.\u001B[0m\u001B[0m_jit_compile\u001B[0m\u001B[0;34m)\u001B[0m\u001B[0;34m:\u001B[0m\u001B[0;34m\u001B[0m\u001B[0;34m\u001B[0m\u001B[0m\n\u001B[0;32m--> 880\u001B[0;31m         \u001B[0mresult\u001B[0m \u001B[0;34m=\u001B[0m \u001B[0mself\u001B[0m\u001B[0;34m.\u001B[0m\u001B[0m_call\u001B[0m\u001B[0;34m(\u001B[0m\u001B[0;34m*\u001B[0m\u001B[0margs\u001B[0m\u001B[0;34m,\u001B[0m \u001B[0;34m**\u001B[0m\u001B[0mkwds\u001B[0m\u001B[0;34m)\u001B[0m\u001B[0;34m\u001B[0m\u001B[0;34m\u001B[0m\u001B[0m\n\u001B[0m\u001B[1;32m    881\u001B[0m \u001B[0;34m\u001B[0m\u001B[0m\n\u001B[1;32m    882\u001B[0m       \u001B[0mnew_tracing_count\u001B[0m \u001B[0;34m=\u001B[0m \u001B[0mself\u001B[0m\u001B[0;34m.\u001B[0m\u001B[0mexperimental_get_tracing_count\u001B[0m\u001B[0;34m(\u001B[0m\u001B[0;34m)\u001B[0m\u001B[0;34m\u001B[0m\u001B[0;34m\u001B[0m\u001B[0m\n",
      "\u001B[0;32m~/Documents/Code/Libaries/python_jupyter_venv/lib/python3.7/site-packages/tensorflow/python/eager/polymorphic_function/polymorphic_function.py\u001B[0m in \u001B[0;36m_call\u001B[0;34m(self, *args, **kwds)\u001B[0m\n\u001B[1;32m    910\u001B[0m       \u001B[0;31m# In this case we have created variables on the first call, so we run the\u001B[0m\u001B[0;34m\u001B[0m\u001B[0;34m\u001B[0m\u001B[0;34m\u001B[0m\u001B[0m\n\u001B[1;32m    911\u001B[0m       \u001B[0;31m# defunned version which is guaranteed to never create variables.\u001B[0m\u001B[0;34m\u001B[0m\u001B[0;34m\u001B[0m\u001B[0;34m\u001B[0m\u001B[0m\n\u001B[0;32m--> 912\u001B[0;31m       \u001B[0;32mreturn\u001B[0m \u001B[0mself\u001B[0m\u001B[0;34m.\u001B[0m\u001B[0m_no_variable_creation_fn\u001B[0m\u001B[0;34m(\u001B[0m\u001B[0;34m*\u001B[0m\u001B[0margs\u001B[0m\u001B[0;34m,\u001B[0m \u001B[0;34m**\u001B[0m\u001B[0mkwds\u001B[0m\u001B[0;34m)\u001B[0m  \u001B[0;31m# pylint: disable=not-callable\u001B[0m\u001B[0;34m\u001B[0m\u001B[0;34m\u001B[0m\u001B[0m\n\u001B[0m\u001B[1;32m    913\u001B[0m     \u001B[0;32melif\u001B[0m \u001B[0mself\u001B[0m\u001B[0;34m.\u001B[0m\u001B[0m_variable_creation_fn\u001B[0m \u001B[0;32mis\u001B[0m \u001B[0;32mnot\u001B[0m \u001B[0;32mNone\u001B[0m\u001B[0;34m:\u001B[0m\u001B[0;34m\u001B[0m\u001B[0;34m\u001B[0m\u001B[0m\n\u001B[1;32m    914\u001B[0m       \u001B[0;31m# Release the lock early so that multiple threads can perform the call\u001B[0m\u001B[0;34m\u001B[0m\u001B[0;34m\u001B[0m\u001B[0;34m\u001B[0m\u001B[0m\n",
      "\u001B[0;32m~/Documents/Code/Libaries/python_jupyter_venv/lib/python3.7/site-packages/tensorflow/python/eager/polymorphic_function/tracing_compiler.py\u001B[0m in \u001B[0;36m__call__\u001B[0;34m(self, *args, **kwargs)\u001B[0m\n\u001B[1;32m    133\u001B[0m        filtered_flat_args) = self._maybe_define_function(args, kwargs)\n\u001B[1;32m    134\u001B[0m     return concrete_function._call_flat(\n\u001B[0;32m--> 135\u001B[0;31m         filtered_flat_args, captured_inputs=concrete_function.captured_inputs)  # pylint: disable=protected-access\n\u001B[0m\u001B[1;32m    136\u001B[0m \u001B[0;34m\u001B[0m\u001B[0m\n\u001B[1;32m    137\u001B[0m   \u001B[0;34m@\u001B[0m\u001B[0mproperty\u001B[0m\u001B[0;34m\u001B[0m\u001B[0;34m\u001B[0m\u001B[0m\n",
      "\u001B[0;32m~/Documents/Code/Libaries/python_jupyter_venv/lib/python3.7/site-packages/tensorflow/python/eager/polymorphic_function/monomorphic_function.py\u001B[0m in \u001B[0;36m_call_flat\u001B[0;34m(self, args, captured_inputs, cancellation_manager)\u001B[0m\n\u001B[1;32m   1744\u001B[0m       \u001B[0;31m# No tape is watching; skip to running the function.\u001B[0m\u001B[0;34m\u001B[0m\u001B[0;34m\u001B[0m\u001B[0;34m\u001B[0m\u001B[0m\n\u001B[1;32m   1745\u001B[0m       return self._build_call_outputs(self._inference_function.call(\n\u001B[0;32m-> 1746\u001B[0;31m           ctx, args, cancellation_manager=cancellation_manager))\n\u001B[0m\u001B[1;32m   1747\u001B[0m     forward_backward = self._select_forward_and_backward_functions(\n\u001B[1;32m   1748\u001B[0m         \u001B[0margs\u001B[0m\u001B[0;34m,\u001B[0m\u001B[0;34m\u001B[0m\u001B[0;34m\u001B[0m\u001B[0m\n",
      "\u001B[0;32m~/Documents/Code/Libaries/python_jupyter_venv/lib/python3.7/site-packages/tensorflow/python/eager/polymorphic_function/monomorphic_function.py\u001B[0m in \u001B[0;36mcall\u001B[0;34m(self, ctx, args, cancellation_manager)\u001B[0m\n\u001B[1;32m    381\u001B[0m               \u001B[0minputs\u001B[0m\u001B[0;34m=\u001B[0m\u001B[0margs\u001B[0m\u001B[0;34m,\u001B[0m\u001B[0;34m\u001B[0m\u001B[0;34m\u001B[0m\u001B[0m\n\u001B[1;32m    382\u001B[0m               \u001B[0mattrs\u001B[0m\u001B[0;34m=\u001B[0m\u001B[0mattrs\u001B[0m\u001B[0;34m,\u001B[0m\u001B[0;34m\u001B[0m\u001B[0;34m\u001B[0m\u001B[0m\n\u001B[0;32m--> 383\u001B[0;31m               ctx=ctx)\n\u001B[0m\u001B[1;32m    384\u001B[0m         \u001B[0;32melse\u001B[0m\u001B[0;34m:\u001B[0m\u001B[0;34m\u001B[0m\u001B[0;34m\u001B[0m\u001B[0m\n\u001B[1;32m    385\u001B[0m           outputs = execute.execute_with_cancellation(\n",
      "\u001B[0;32m~/Documents/Code/Libaries/python_jupyter_venv/lib/python3.7/site-packages/tensorflow/python/eager/execute.py\u001B[0m in \u001B[0;36mquick_execute\u001B[0;34m(op_name, num_outputs, inputs, attrs, ctx, name)\u001B[0m\n\u001B[1;32m     51\u001B[0m     \u001B[0mctx\u001B[0m\u001B[0;34m.\u001B[0m\u001B[0mensure_initialized\u001B[0m\u001B[0;34m(\u001B[0m\u001B[0;34m)\u001B[0m\u001B[0;34m\u001B[0m\u001B[0;34m\u001B[0m\u001B[0m\n\u001B[1;32m     52\u001B[0m     tensors = pywrap_tfe.TFE_Py_Execute(ctx._handle, device_name, op_name,\n\u001B[0;32m---> 53\u001B[0;31m                                         inputs, attrs, num_outputs)\n\u001B[0m\u001B[1;32m     54\u001B[0m   \u001B[0;32mexcept\u001B[0m \u001B[0mcore\u001B[0m\u001B[0;34m.\u001B[0m\u001B[0m_NotOkStatusException\u001B[0m \u001B[0;32mas\u001B[0m \u001B[0me\u001B[0m\u001B[0;34m:\u001B[0m\u001B[0;34m\u001B[0m\u001B[0;34m\u001B[0m\u001B[0m\n\u001B[1;32m     55\u001B[0m     \u001B[0;32mif\u001B[0m \u001B[0mname\u001B[0m \u001B[0;32mis\u001B[0m \u001B[0;32mnot\u001B[0m \u001B[0;32mNone\u001B[0m\u001B[0;34m:\u001B[0m\u001B[0;34m\u001B[0m\u001B[0;34m\u001B[0m\u001B[0m\n",
      "\u001B[0;31mKeyboardInterrupt\u001B[0m: "
     ]
    }
   ],
   "source": [
    "model.fit(X_train.reshape(-1, X_train.shape[1], 1), Y_train, batch_size=32, epochs=10)"
   ],
   "metadata": {
    "collapsed": false,
    "ExecuteTime": {
     "end_time": "2023-11-20T11:05:20.905354Z",
     "start_time": "2023-11-20T10:59:24.652599Z"
    }
   }
  },
  {
   "cell_type": "code",
   "execution_count": null,
   "outputs": [],
   "source": [],
   "metadata": {
    "collapsed": false
   }
  }
 ],
 "metadata": {
  "kernelspec": {
   "display_name": "scaling_vis_enc",
   "language": "python",
   "name": "python3"
  },
  "language_info": {
   "codemirror_mode": {
    "name": "ipython",
    "version": 3
   },
   "file_extension": ".py",
   "mimetype": "text/x-python",
   "name": "python",
   "nbconvert_exporter": "python",
   "pygments_lexer": "ipython3",
   "version": "3.8.0"
  }
 },
 "nbformat": 4,
 "nbformat_minor": 2
}
