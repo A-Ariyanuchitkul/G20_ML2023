{
 "cells": [
  {
   "cell_type": "code",
   "execution_count": null,
   "metadata": {
    "collapsed": false
   },
   "outputs": [],
   "source": [
    "from google.colab import drive\n",
    "drive.mount('/content/drive')"
   ]
  },
  {
   "cell_type": "code",
   "execution_count": null,
   "metadata": {},
   "outputs": [],
   "source": [
    "import glob\n",
    "import imageio.v3 as iio\n",
    "import numpy as np\n",
    "import os\n",
    "import pandas as pd\n",
    "import pickle"
   ]
  },
  {
   "cell_type": "code",
   "execution_count": null,
   "metadata": {},
   "outputs": [],
   "source": [
    "ROOT_FILE_PATH = \"/content/drive/My Drive/2023-Machine-Learning-Dataset\";\n",
    "\n",
    "SUBJ_LIST = [\"subj01\", \"subj02\", \"subj03\", \"subj04\", \"subj05\", \"subj06\", \"subj07\", \"subj08\"];\n",
    "\n",
    "def ReadNpyFile(folderdir):\n",
    "  retdic = {};\n",
    "  for path in glob.glob(folderdir + \"/*.npy\"):\n",
    "    retdic[path.split(\"/\")[-1]] = np.load(path, allow_pickle = True);\n",
    "  return retdic;\n",
    "\n",
    "def ReadPngFile(folderdir):\n",
    "  retdic = {};\n",
    "  for path in glob.glob(folderdir + \"/*.png\"):\n",
    "    retdic[path.split(\"/\")[-1]] = iio.imread(path);\n",
    "  return retdic;\n",
    "\n",
    "def read_subject(subject):\n",
    "  retdic = {};\n",
    "  fp = \"/\".join([ROOT_FILE_PATH, subject]);\n",
    "  retdic[\"training_img\"] = ReadPngFile(os.path.join(fp, \"training_split\", \"training_images\"))\n",
    "  retdic[\"training_fmri\"] = ReadNpyFile(os.path.join(fp, \"training_split\", \"training_fmri\"));\n",
    "  retdic[\"test_fmri\"] = ReadNpyFile(os.path.join(fp, \"test_split\", \"test_fmri\"));\n",
    "  retdic[\"roi_masks\"] = ReadNpyFile(os.path.join(fp, \"roi_masks\"));\n",
    "  return retdic;"
   ]
  },
  {
   "cell_type": "code",
   "execution_count": null,
   "metadata": {},
   "outputs": [],
   "source": [
    "DATA = read_subject(SUBJ_LIST[0])  #Requires 75 s approx."
   ]
  },
  {
   "cell_type": "markdown",
   "metadata": {
    "collapsed": false
   },
   "source": [
    "# Todo for preprocessing\n",
    "- Training / Validation split\n",
    "- Documentation for all dimensions of all variables\n",
    "- Category for all images (array with size of all categories value 0/1)\n",
    "- Images in rgb and grey scale"
   ]
  }
 ],
 "metadata": {
  "kernelspec": {
   "display_name": "scaling_vis_enc",
   "language": "python",
   "name": "python3"
  },
  "language_info": {
   "codemirror_mode": {
    "name": "ipython",
    "version": 3
   },
   "file_extension": ".py",
   "mimetype": "text/x-python",
   "name": "python",
   "nbconvert_exporter": "python",
   "pygments_lexer": "ipython3",
   "version": "3.8.0"
  }
 },
 "nbformat": 4,
 "nbformat_minor": 2
}
