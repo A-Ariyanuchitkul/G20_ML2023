{
 "cells": [
  {
   "cell_type": "code",
   "execution_count": null,
   "metadata": {
    "collapsed": false
   },
   "outputs": [],
   "source": [
    "# from google.colab import drive\n",
    "# drive.mount('/content/drive')"
   ]
  },
  {
   "cell_type": "code",
   "execution_count": 1,
   "metadata": {
    "ExecuteTime": {
     "end_time": "2023-11-17T15:22:03.169780Z",
     "start_time": "2023-11-17T15:22:01.929158Z"
    }
   },
   "outputs": [],
   "source": [
    "import glob\n",
    "# import imageio as iio\n",
    "# import matplotlib\n",
    "import numpy as np\n",
    "import os\n",
    "import pandas as pd"
   ]
  },
  {
   "cell_type": "code",
   "execution_count": 14,
   "metadata": {
    "ExecuteTime": {
     "end_time": "2023-11-17T15:36:28.167949Z",
     "start_time": "2023-11-17T15:36:28.166003Z"
    },
    "collapsed": false
   },
   "outputs": [],
   "source": [
    "from skimage import color\n",
    "from skimage import io"
   ]
  },
  {
   "cell_type": "code",
   "execution_count": 15,
   "metadata": {
    "ExecuteTime": {
     "end_time": "2023-11-17T15:36:28.344443Z",
     "start_time": "2023-11-17T15:36:28.341054Z"
    },
    "collapsed": false
   },
   "outputs": [],
   "source": [
    "ROOT_FILE_PATH = \"/Users/adminpc-macmini/Library/CloudStorage/GoogleDrive-jeremias.rueck@gmail.com/Meine Ablage/Google Drive - Code/NTHU/final_project/data\"\n",
    "SUBJ_LIST = [\"subj01\", \"subj02\", \"subj03\", \"subj04\", \"subj05\", \"subj06\", \"subj07\", \"subj08\"]\n",
    "AREAS = [\"prf-visualrois\", \"floc-bodies\", \"floc-faces\", \"floc-places\", \"floc-words\", \"streams\", \"all-vertices\"]\n",
    "MASK_KEYS = [\"lh.fsaverage_space\", \"rh.fsaverage_space\",\"lh.space\", \"rh.space\", \"mapping\"];"
   ]
  },
  {
   "cell_type": "code",
   "execution_count": 21,
   "metadata": {
    "ExecuteTime": {
     "end_time": "2023-11-17T15:37:19.858766Z",
     "start_time": "2023-11-17T15:37:19.856290Z"
    }
   },
   "outputs": [],
   "source": [
    "def ReadNpyFile(dir_path):\n",
    "  return_dic = {}\n",
    "  for path in glob.glob(dir_path + \"/*.npy\"):\n",
    "    filename = os.path.splitext(path)[0].split(\"/\")[-1]\n",
    "    return_dic[filename] = np.load(path, allow_pickle = True)\n",
    "  return return_dic\n",
    "\n",
    "def ReadFmriFile(dir_path):\n",
    "  return_dic = {}\n",
    "  for path in glob.glob(dir_path + \"/*.npy\"):\n",
    "    filename = os.path.splitext(path)[0].split(\"/\")[-1]\n",
    "    return_dic[filename[0]] = np.load(path, allow_pickle = True)\n",
    "  return return_dic\n",
    "\n",
    "def ReadMaskFile(dir_path):\n",
    "  return_dic = {area: {} for area in AREAS};\n",
    "  for path in glob.glob(dir_path + \"/*.npy\"):\n",
    "    filename = os.path.splitext(path)[0].split(\"/\")[-1]\n",
    "    for area in AREAS:\n",
    "      if area in filename:\n",
    "        filename = \"\".join(i.strip(\"_\") for i in filename.split(area))\n",
    "        return_dic[area][filename] = np.load(path, allow_pickle = True) if filename[0] != \"m\" else np.load(path, allow_pickle = True).item()\n",
    "        break;\n",
    "  return return_dic\n",
    "\n",
    "\n",
    "def FetchPngFile(dir_path, index, mode = \"rgb\"):\n",
    "  # img = iio.v3.imread()\n",
    "  img = io.imread(os.path.join(dir_path, f'{index}.png'))\n",
    "  if mode == \"rgb\":\n",
    "    return img\n",
    "  if mode == \"hsv\":\n",
    "    return color.rgb2hsv(img)\n",
    "    # return matplotlib.colors.rgb_to_hsv(img)\n",
    "  if mode == \"gray\":\n",
    "    return color.rgb2gray(img)\n",
    "    # return np.dot(img, [0.299, 0.587, 0.114])"
   ]
  },
  {
   "cell_type": "code",
   "execution_count": null,
   "metadata": {
    "collapsed": false
   },
   "outputs": [],
   "source": [
    "def train_val_split(x, y, ratio, random_state=42):\n",
    "  \n",
    "  r = np.random.RandomState(random_state)\n",
    "  \n",
    "  idx = r.permutation(x.index)\n",
    "  x_per = x.reindex(idx)\n",
    "  y_per = y.reindex(idx)\n",
    "\n",
    "  train_size = int(x.shape[0] * ratio)\n",
    "  \n",
    "  x_train = x_per[0:train_size]\n",
    "  y_train = y_per[0:train_size]\n",
    "  \n",
    "  x_val = x_per[train_size:]\n",
    "  y_val = y_per[train_size:]\n",
    "  \n",
    "  print('Training_dimension: ' + str(x_train.shape) + ' | ' + str(y_train.shape))\n",
    "  print('Validation_dimension: ' + str(x_val.shape) + ' | ' + str(y_val.shape))\n",
    "\n",
    "  return x_train, x_val, y_train, y_val"
   ]
  },
  {
   "cell_type": "code",
   "execution_count": 59,
   "metadata": {
    "ExecuteTime": {
     "end_time": "2023-11-17T16:28:08.177539Z",
     "start_time": "2023-11-17T16:28:08.174594Z"
    }
   },
   "outputs": [],
   "source": [
    "class ReadObject:\n",
    "  \n",
    "  fmri = None           # dict(string -> ndarray, float32)\n",
    "  masks = None          # dict(string \"AREA\" -> (dict(int -> string), string \"HEMISPHERE, \" -> ndarray))\n",
    "  \n",
    "  image_labels = None   # dataframe\n",
    "  label_names = None    # list\n",
    "\n",
    "  subject = None        # string\n",
    "  \n",
    "  def __init__(self, subject):\n",
    "    self.subject = subject\n",
    "\n",
    "  # Mode = \"train\" | \"test\"\n",
    "  def load(self, mode = \"train\"):\n",
    "    \n",
    "    self.image_labels = pd.read_csv(os.path.join(ROOT_FILE_PATH, \"image_infos\", f\"{self.subject}_infos_train.csv\"))\n",
    "    self.image_labels = self.image_labels.drop(self.image_labels.columns[[0, 1]], axis=1)\n",
    "    self.label_names = self.image_labels.columns\n",
    "    \n",
    "    self.image_labels = self.image_labels.to_numpy(dtype=int)\n",
    "\n",
    "    print('Images: ' + str(self.image_labels.shape[0]))\n",
    "    print('Labels: ' + str(self.image_labels.shape[1]))\n",
    "    \n",
    "    self.masks = ReadMaskFile(os.path.join(ROOT_FILE_PATH, self.subject , \"roi_masks\"))\n",
    "    print('Masks: ' + str(len(self.masks.keys())))\n",
    "        \n",
    "    if mode == \"train\":\n",
    "      self.fmri = ReadFmriFile(os.path.join(ROOT_FILE_PATH, self.subject, \"training_split\", \"training_fmri\"))\n",
    "    elif mode == \"test\":\n",
    "      self.fmri = ReadFmriFile(os.path.join(ROOT_FILE_PATH, self.subject, \"test_split\", \"test_fmri\"))\n",
    "\n",
    "  def split_data(self, count=None, ratio=None, permutate=True, image_mode = \"rgb\", random_state=42):\n",
    "    \n",
    "    if ratio is None:\n",
    "      ratio = 1\n",
    "    \n",
    "    random_state = np.random.RandomState(random_state)\n",
    "    \n",
    "    if count is not None and count > 0:\n",
    "      fmri_l_copy = self.fmri['l'][:count]\n",
    "      fmri_r_copy = self.fmri['r'][:count]\n",
    "      labels_copy = self.image_labels[:count]\n",
    "    else:\n",
    "      fmri_l_copy = self.fmri['l']\n",
    "      fmri_r_copy = self.fmri['r']\n",
    "      labels_copy = self.image_labels\n",
    "    \n",
    "    loaded_images = np.stack([FetchPngFile(os.path.join(ROOT_FILE_PATH, self.subject,\n",
    "                      \"training_split\", \"training_images\"), i, mode = image_mode) for i in range(labels_copy.shape[0])])\n",
    "    \n",
    "    if permutate:\n",
    "      \n",
    "        idx = random_state.permutation(labels_copy.shape[0])\n",
    "        \n",
    "        fmri_l_copy = fmri_l_copy[idx]\n",
    "        fmri_r_copy = fmri_r_copy[idx]\n",
    "        labels_copy = labels_copy[idx]\n",
    "        loaded_images = loaded_images[idx]\n",
    "        \n",
    "    train_size = int(labels_copy.shape[0] * ratio)\n",
    "  \n",
    "    fmri_l_train = fmri_l_copy[0:train_size]\n",
    "    fmri_r_train = fmri_r_copy[0:train_size]\n",
    "    labels_train = labels_copy[0:train_size]\n",
    "    images_train = loaded_images[0:train_size]\n",
    "    \n",
    "    fmri_l_val = fmri_l_copy[train_size:]\n",
    "    fmri_r_val = fmri_r_copy[train_size:]\n",
    "    labels_val = labels_copy[train_size:]\n",
    "    images_val = loaded_images[train_size:]\n",
    "    \n",
    "    return (labels_train, labels_val), (fmri_l_train, fmri_l_val), (fmri_r_train, fmri_r_val), (images_train, images_val)"
   ]
  },
  {
   "cell_type": "code",
   "execution_count": 60,
   "metadata": {
    "ExecuteTime": {
     "end_time": "2023-11-17T16:28:08.911243Z",
     "start_time": "2023-11-17T16:28:08.460576Z"
    }
   },
   "outputs": [
    {
     "name": "stdout",
     "output_type": "stream",
     "text": [
      "Images: 5000\n",
      "Labels: 133\n",
      "Masks: 7\n"
     ]
    }
   ],
   "source": [
    "obj = ReadObject(SUBJ_LIST[0]) \n",
    "obj.load()"
   ]
  },
  {
   "cell_type": "code",
   "execution_count": 61,
   "metadata": {
    "ExecuteTime": {
     "end_time": "2023-11-17T16:28:16.929635Z",
     "start_time": "2023-11-17T16:28:09.507070Z"
    },
    "collapsed": false
   },
   "outputs": [],
   "source": [
    "(labels_train, labels_val), (fmri_l_train, fmri_l_val), (fmri_r_train, fmri_r_val), (images_train, images_val) = obj.split_data(count=1000, ratio=0.995, image_mode= \"rgb\")"
   ]
  },
  {
   "cell_type": "code",
   "execution_count": 62,
   "metadata": {
    "ExecuteTime": {
     "end_time": "2023-11-17T16:28:17.833373Z",
     "start_time": "2023-11-17T16:28:17.814125Z"
    },
    "collapsed": false
   },
   "outputs": [
    {
     "name": "stdout",
     "output_type": "stream",
     "text": [
      "(995, 133)\n",
      "(5, 133)\n",
      "(995, 19004)\n",
      "(5, 19004)\n",
      "(995, 20544)\n",
      "(5, 20544)\n",
      "(995, 425, 425, 3)\n",
      "(5, 425, 425, 3)\n"
     ]
    }
   ],
   "source": [
    "print(labels_train.shape)\n",
    "print(labels_val.shape)\n",
    "print(fmri_l_train.shape)\n",
    "print(fmri_l_val.shape)\n",
    "print(fmri_r_train.shape)\n",
    "print(fmri_r_val.shape)\n",
    "print(images_train.shape)\n",
    "print(images_val.shape)"
   ]
  },
  {
   "cell_type": "code",
   "execution_count": null,
   "metadata": {
    "collapsed": false
   },
   "outputs": [],
   "source": []
  }
 ],
 "metadata": {
  "kernelspec": {
   "display_name": "scaling_vis_enc",
   "language": "python",
   "name": "python3"
  },
  "language_info": {
   "codemirror_mode": {
    "name": "ipython",
    "version": 3
   },
   "file_extension": ".py",
   "mimetype": "text/x-python",
   "name": "python",
   "nbconvert_exporter": "python",
   "pygments_lexer": "ipython3",
   "version": "3.8.0"
  }
 },
 "nbformat": 4,
 "nbformat_minor": 2
}
