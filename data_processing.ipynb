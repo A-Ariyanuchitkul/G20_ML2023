{
 "nbformat": 4,
 "nbformat_minor": 0,
 "metadata": {
  "colab": {
   "provenance": [],
   "authorship_tag": "ABX9TyM/Lg4rnjmApOW7inxpirz5"
  },
  "kernelspec": {
   "name": "python3",
   "language": "python",
   "display_name": "Python 3"
  },
  "language_info": {
   "name": "python"
  }
 },
 "cells": [
  {
   "cell_type": "code",
   "execution_count": null,
   "metadata": {
    "colab": {
     "base_uri": "https://localhost:8080/"
    },
    "id": "wIve9lCCHY0I",
    "executionInfo": {
     "status": "ok",
     "timestamp": 1700120120513,
     "user_tz": -480,
     "elapsed": 17793,
     "user": {
      "displayName": "黃政倫",
      "userId": "10810828641950182225"
     }
    },
    "outputId": "ca885910-a593-4c50-e571-b2f30b819112"
   },
   "outputs": [],
   "source": [
    "# from google.colab import drive\n",
    "# drive.mount('/content/drive')\n",
    "\n",
    "import glob\n",
    "import imageio as iio\n",
    "import numpy as np\n",
    "import os\n",
    "import pandas as pd\n",
    "import random"
   ]
  },
  {
   "cell_type": "code",
   "execution_count": null,
   "outputs": [],
   "source": [
    "SUBJ_LIST = [\"subj01\", \"subj02\", \"subj03\", \"subj04\", \"subj05\", \"subj06\", \"subj07\", \"subj08\"]"
   ],
   "metadata": {
    "collapsed": false
   }
  },
  {
   "cell_type": "code",
   "source": [
    "ROOT_FILE_PATH = \"/Users/adminpc-macmini/Library/CloudStorage/GoogleDrive-jeremias.rueck@gmail.com/Meine Ablage/Google Drive - Code/NTHU/final_project/data\"\n",
    "\n",
    "def ReadNpyFilesOfDir(dir_path):\n",
    "  dic = {}\n",
    "  index = 1\n",
    "  for path in glob.glob(dir_path + \"/*.npy\"):\n",
    "    print('Load npy file: ' + str(path))\n",
    "    dic[index] = {\n",
    "      0: path.split(\"/\")[-1],\n",
    "      1: np.load(path, allow_pickle = True)\n",
    "    }\n",
    "    index += 1\n",
    "  return dic\n",
    "\n",
    "def ReadPngFile(dir_path):\n",
    "  dic = {}\n",
    "  index = 0\n",
    "  for path in glob.glob(dir_path + \"/*.png\"):\n",
    "    print('Load picture: ' + str(path))\n",
    "    dic[index] = {\n",
    "      0: path.split(\"/\")[-1],\n",
    "      1: iio.imread(path),\n",
    "      2 : {}\n",
    "    }\n",
    "    for j in range(425):\n",
    "      dic[index][2][j] = {}\n",
    "      for k in range(425):\n",
    "         dic[index][1][j][k] = 0.299 * dic[index][1][j][k][0] + 0.587 * dic[index][1][j][k][1] + 0.114 * dic[index][1][j][k][2]\n",
    "    index += 1\n",
    "  return dic"
   ],
   "metadata": {
    "id": "QyOWt528JgJr",
    "executionInfo": {
     "status": "ok",
     "timestamp": 1700120122828,
     "user_tz": -480,
     "elapsed": 697,
     "user": {
      "displayName": "黃政倫",
      "userId": "10810828641950182225"
     }
    },
    "ExecuteTime": {
     "end_time": "2023-11-16T11:10:18.743736Z",
     "start_time": "2023-11-16T11:10:18.737079Z"
    }
   },
   "execution_count": 108,
   "outputs": []
  },
  {
   "cell_type": "code",
   "source": [
    "#readme\n",
    "\"\"\"\n",
    "Subject 1-8:\n",
    "\n",
    "image[0-4999] --> [0] --> name\n",
    "                  [1] --> RGB([0-455][0-455]pixel)(value:0-255)\n",
    "                  [2] --> gray scale\n",
    "                  [3] --> (133 labels) (0 or 1)\n",
    "                  \n",
    "fmri[0-4999]  --> [0] --> left\n",
    "                  [1] --> right\n",
    "\n",
    "mask[0-31]    --> [0] --> name(type of mask)\n",
    "                  [1] --> np_array\n",
    "\"\"\""
   ],
   "metadata": {
    "id": "TgCkqbsbxDtW",
    "ExecuteTime": {
     "end_time": "2023-11-16T11:10:19.197100Z",
     "start_time": "2023-11-16T11:10:19.189051Z"
    }
   },
   "execution_count": 109,
   "outputs": [
    {
     "data": {
      "text/plain": "'\\nSubject 1-8:\\n\\nimage[0-4999] --> [0] --> name\\n                  [1] --> RGB([0-455][0-455]pixel)(value:0-255)\\n                  [2] --> gray scale\\n                  [3] --> (133 labels) (0 or 1)\\n                  \\nfmri[0-4999]  --> [0] --> left\\n                  [1] --> right\\n\\nmask[0-31]    --> [0] --> name(type of mask)\\n                  [1] --> np_array\\n'"
     },
     "execution_count": 109,
     "metadata": {},
     "output_type": "execute_result"
    }
   ]
  },
  {
   "cell_type": "code",
   "source": [
    "class ReadObject:\n",
    "  \n",
    "  labels = None\n",
    "  labels_names = None\n",
    "\n",
    "  def __init__(self, subject):\n",
    "    self.subject = subject\n",
    "\n",
    "  def get_info(self):\n",
    "  \n",
    "    image_data = pd.read_csv(os.path.join(ROOT_FILE_PATH, \"image_infos\", f\"{self.subject}_infos_train.csv\"))\n",
    "    image_data = image_data.drop(image_data.columns[[0, 1]], axis=1)\n",
    "    \n",
    "    self.labels_names = image_data.columns\n",
    "    self.labels = np.array(image_data.values, dtype=int)\n",
    "    print('Image count: ' + str(image_data.shape[0]))\n",
    "    \n",
    "    label_count = len(image_data.columns)\n",
    "    print('Label count: ' + str(label_count))\n",
    "           \n",
    "    return self.labels_names, self.labels\n",
    "\n",
    "  fmri = None\n",
    "  masks = None\n",
    "  images = None\n",
    "  ## Mode = \"train\" | \"test\"\n",
    "  def load(self, mode = \"train\"):\n",
    "    \n",
    "    self.masks = ReadNpyFilesOfDir(os.path.join(ROOT_FILE_PATH, self.subject , \"roi_masks\"))\n",
    "\n",
    "    if mode == \"train\":\n",
    "      self.images = ReadPngFile(os.path.join(ROOT_FILE_PATH, self.subject, \"training_split\", \"training_images\"))\n",
    "      self.fmri = ReadNpyFilesOfDir(os.path.join(ROOT_FILE_PATH, self.subject, \"training_split\", \"training_fmri\"))\n",
    "\n",
    "    elif mode == \"test\":\n",
    "      self.images = None\n",
    "      self.fmri = ReadNpyFilesOfDir(os.path.join(ROOT_FILE_PATH, self.subject, \"test_split\", \"test_fmri\"))\n",
    "          \n",
    "    return self.images, self.fmri, self.masks\n",
    "\n",
    "  ## batch_number = probability of\n",
    "  def split_data(self, batch_number = 1):\n",
    "    training_set = []\n",
    "    validation_set = []\n",
    "    for i in range(5000):\n",
    "        eat = random.random()\n",
    "        if eat < batch_number:\n",
    "            training_set.append(self.image[i])\n",
    "        else:\n",
    "            validation_set.append(self.image[i])\n",
    "    training_set = np.array(training_set)\n",
    "    validation_set =np.array(validation_set)\n",
    "    return training_set, validation_set"
   ],
   "metadata": {
    "id": "Ok6Dln5OicsR",
    "executionInfo": {
     "status": "ok",
     "timestamp": 1700120126551,
     "user_tz": -480,
     "elapsed": 303,
     "user": {
      "displayName": "黃政倫",
      "userId": "10810828641950182225"
     }
    },
    "ExecuteTime": {
     "end_time": "2023-11-16T11:10:19.684249Z",
     "start_time": "2023-11-16T11:10:19.678232Z"
    }
   },
   "execution_count": 110,
   "outputs": []
  },
  {
   "cell_type": "code",
   "source": [
    "subject = SUBJ_LIST[0]\n",
    "\n",
    "combined_data = ReadObject(subject)"
   ],
   "metadata": {
    "id": "qjSLJsHljCZY",
    "ExecuteTime": {
     "end_time": "2023-11-16T11:10:20.288015Z",
     "start_time": "2023-11-16T11:10:20.282823Z"
    }
   },
   "execution_count": 111,
   "outputs": []
  },
  {
   "cell_type": "code",
   "execution_count": 112,
   "outputs": [
    {
     "name": "stdout",
     "output_type": "stream",
     "text": [
      "Image count: 5000\n",
      "Label count: 133\n"
     ]
    }
   ],
   "source": [
    "label_name, labels = combined_data.get_info()"
   ],
   "metadata": {
    "collapsed": false,
    "ExecuteTime": {
     "end_time": "2023-11-16T11:10:20.565888Z",
     "start_time": "2023-11-16T11:10:20.497904Z"
    }
   }
  },
  {
   "cell_type": "code",
   "execution_count": 113,
   "outputs": [
    {
     "data": {
      "text/plain": "Index(['person', 'bicycle', 'car', 'motorcycle', 'airplane', 'bus', 'train',\n       'truck', 'boat', 'traffic light',\n       ...\n       'pavement-merged', 'mountain-merged', 'grass-merged', 'dirt-merged',\n       'paper-merged', 'food-other-merged', 'building-other-merged',\n       'rock-merged', 'wall-other-merged', 'rug-merged'],\n      dtype='object', length=133)"
     },
     "execution_count": 113,
     "metadata": {},
     "output_type": "execute_result"
    }
   ],
   "source": [
    "label_name"
   ],
   "metadata": {
    "collapsed": false,
    "ExecuteTime": {
     "end_time": "2023-11-16T11:10:21.038375Z",
     "start_time": "2023-11-16T11:10:21.033038Z"
    }
   }
  },
  {
   "cell_type": "code",
   "execution_count": 114,
   "outputs": [
    {
     "data": {
      "text/plain": "(5000, 133)"
     },
     "execution_count": 114,
     "metadata": {},
     "output_type": "execute_result"
    }
   ],
   "source": [
    "labels.shape"
   ],
   "metadata": {
    "collapsed": false,
    "ExecuteTime": {
     "end_time": "2023-11-16T11:10:21.572665Z",
     "start_time": "2023-11-16T11:10:21.566591Z"
    }
   }
  },
  {
   "cell_type": "code",
   "execution_count": 115,
   "outputs": [
    {
     "name": "stdout",
     "output_type": "stream",
     "text": [
      "Load npy file: /Users/adminpc-macmini/Library/CloudStorage/GoogleDrive-jeremias.rueck@gmail.com/Meine Ablage/Google Drive - Code/NTHU/final_project/data/subj01/roi_masks/rh.all-vertices_fsaverage_space.npy\n",
      "Load npy file: /Users/adminpc-macmini/Library/CloudStorage/GoogleDrive-jeremias.rueck@gmail.com/Meine Ablage/Google Drive - Code/NTHU/final_project/data/subj01/roi_masks/lh.floc-places_space.npy\n",
      "Load npy file: /Users/adminpc-macmini/Library/CloudStorage/GoogleDrive-jeremias.rueck@gmail.com/Meine Ablage/Google Drive - Code/NTHU/final_project/data/subj01/roi_masks/rh.floc-faces_fsaverage_space.npy\n",
      "Load npy file: /Users/adminpc-macmini/Library/CloudStorage/GoogleDrive-jeremias.rueck@gmail.com/Meine Ablage/Google Drive - Code/NTHU/final_project/data/subj01/roi_masks/lh.floc-bodies_fsaverage_space.npy\n",
      "Load npy file: /Users/adminpc-macmini/Library/CloudStorage/GoogleDrive-jeremias.rueck@gmail.com/Meine Ablage/Google Drive - Code/NTHU/final_project/data/subj01/roi_masks/lh.floc-faces_fsaverage_space.npy\n",
      "Load npy file: /Users/adminpc-macmini/Library/CloudStorage/GoogleDrive-jeremias.rueck@gmail.com/Meine Ablage/Google Drive - Code/NTHU/final_project/data/subj01/roi_masks/lh.streams_space.npy\n",
      "Load npy file: /Users/adminpc-macmini/Library/CloudStorage/GoogleDrive-jeremias.rueck@gmail.com/Meine Ablage/Google Drive - Code/NTHU/final_project/data/subj01/roi_masks/lh.floc-bodies_space.npy\n",
      "Load npy file: /Users/adminpc-macmini/Library/CloudStorage/GoogleDrive-jeremias.rueck@gmail.com/Meine Ablage/Google Drive - Code/NTHU/final_project/data/subj01/roi_masks/rh.floc-words_fsaverage_space.npy\n",
      "Load npy file: /Users/adminpc-macmini/Library/CloudStorage/GoogleDrive-jeremias.rueck@gmail.com/Meine Ablage/Google Drive - Code/NTHU/final_project/data/subj01/roi_masks/lh.all-vertices_fsaverage_space.npy\n",
      "Load npy file: /Users/adminpc-macmini/Library/CloudStorage/GoogleDrive-jeremias.rueck@gmail.com/Meine Ablage/Google Drive - Code/NTHU/final_project/data/subj01/roi_masks/rh.floc-places_fsaverage_space.npy\n",
      "Load npy file: /Users/adminpc-macmini/Library/CloudStorage/GoogleDrive-jeremias.rueck@gmail.com/Meine Ablage/Google Drive - Code/NTHU/final_project/data/subj01/roi_masks/mapping_prf-visualrois.npy\n",
      "Load npy file: /Users/adminpc-macmini/Library/CloudStorage/GoogleDrive-jeremias.rueck@gmail.com/Meine Ablage/Google Drive - Code/NTHU/final_project/data/subj01/roi_masks/lh.floc-words_fsaverage_space.npy\n",
      "Load npy file: /Users/adminpc-macmini/Library/CloudStorage/GoogleDrive-jeremias.rueck@gmail.com/Meine Ablage/Google Drive - Code/NTHU/final_project/data/subj01/roi_masks/mapping_floc-bodies.npy\n",
      "Load npy file: /Users/adminpc-macmini/Library/CloudStorage/GoogleDrive-jeremias.rueck@gmail.com/Meine Ablage/Google Drive - Code/NTHU/final_project/data/subj01/roi_masks/lh.floc-faces_space.npy\n",
      "Load npy file: /Users/adminpc-macmini/Library/CloudStorage/GoogleDrive-jeremias.rueck@gmail.com/Meine Ablage/Google Drive - Code/NTHU/final_project/data/subj01/roi_masks/mapping_floc-words.npy\n",
      "Load npy file: /Users/adminpc-macmini/Library/CloudStorage/GoogleDrive-jeremias.rueck@gmail.com/Meine Ablage/Google Drive - Code/NTHU/final_project/data/subj01/roi_masks/mapping_floc-places.npy\n",
      "Load npy file: /Users/adminpc-macmini/Library/CloudStorage/GoogleDrive-jeremias.rueck@gmail.com/Meine Ablage/Google Drive - Code/NTHU/final_project/data/subj01/roi_masks/rh.floc-words_space.npy\n",
      "Load npy file: /Users/adminpc-macmini/Library/CloudStorage/GoogleDrive-jeremias.rueck@gmail.com/Meine Ablage/Google Drive - Code/NTHU/final_project/data/subj01/roi_masks/lh.streams_fsaverage_space.npy\n",
      "Load npy file: /Users/adminpc-macmini/Library/CloudStorage/GoogleDrive-jeremias.rueck@gmail.com/Meine Ablage/Google Drive - Code/NTHU/final_project/data/subj01/roi_masks/mapping_floc-faces.npy\n",
      "Load npy file: /Users/adminpc-macmini/Library/CloudStorage/GoogleDrive-jeremias.rueck@gmail.com/Meine Ablage/Google Drive - Code/NTHU/final_project/data/subj01/roi_masks/lh.floc-words_space.npy\n",
      "Load npy file: /Users/adminpc-macmini/Library/CloudStorage/GoogleDrive-jeremias.rueck@gmail.com/Meine Ablage/Google Drive - Code/NTHU/final_project/data/subj01/roi_masks/rh.floc-faces_space.npy\n",
      "Load npy file: /Users/adminpc-macmini/Library/CloudStorage/GoogleDrive-jeremias.rueck@gmail.com/Meine Ablage/Google Drive - Code/NTHU/final_project/data/subj01/roi_masks/rh.prf-visualrois_fsaverage_space.npy\n",
      "Load npy file: /Users/adminpc-macmini/Library/CloudStorage/GoogleDrive-jeremias.rueck@gmail.com/Meine Ablage/Google Drive - Code/NTHU/final_project/data/subj01/roi_masks/rh.floc-places_space.npy\n",
      "Load npy file: /Users/adminpc-macmini/Library/CloudStorage/GoogleDrive-jeremias.rueck@gmail.com/Meine Ablage/Google Drive - Code/NTHU/final_project/data/subj01/roi_masks/rh.streams_space.npy\n",
      "Load npy file: /Users/adminpc-macmini/Library/CloudStorage/GoogleDrive-jeremias.rueck@gmail.com/Meine Ablage/Google Drive - Code/NTHU/final_project/data/subj01/roi_masks/rh.prf-visualrois_space.npy\n",
      "Load npy file: /Users/adminpc-macmini/Library/CloudStorage/GoogleDrive-jeremias.rueck@gmail.com/Meine Ablage/Google Drive - Code/NTHU/final_project/data/subj01/roi_masks/rh.streams_fsaverage_space.npy\n",
      "Load npy file: /Users/adminpc-macmini/Library/CloudStorage/GoogleDrive-jeremias.rueck@gmail.com/Meine Ablage/Google Drive - Code/NTHU/final_project/data/subj01/roi_masks/lh.prf-visualrois_fsaverage_space.npy\n",
      "Load npy file: /Users/adminpc-macmini/Library/CloudStorage/GoogleDrive-jeremias.rueck@gmail.com/Meine Ablage/Google Drive - Code/NTHU/final_project/data/subj01/roi_masks/rh.floc-bodies_fsaverage_space.npy\n",
      "Load npy file: /Users/adminpc-macmini/Library/CloudStorage/GoogleDrive-jeremias.rueck@gmail.com/Meine Ablage/Google Drive - Code/NTHU/final_project/data/subj01/roi_masks/mapping_streams.npy\n",
      "Load npy file: /Users/adminpc-macmini/Library/CloudStorage/GoogleDrive-jeremias.rueck@gmail.com/Meine Ablage/Google Drive - Code/NTHU/final_project/data/subj01/roi_masks/lh.prf-visualrois_space.npy\n",
      "Load npy file: /Users/adminpc-macmini/Library/CloudStorage/GoogleDrive-jeremias.rueck@gmail.com/Meine Ablage/Google Drive - Code/NTHU/final_project/data/subj01/roi_masks/lh.floc-places_fsaverage_space.npy\n",
      "Load npy file: /Users/adminpc-macmini/Library/CloudStorage/GoogleDrive-jeremias.rueck@gmail.com/Meine Ablage/Google Drive - Code/NTHU/final_project/data/subj01/roi_masks/rh.floc-bodies_space.npy\n",
      "Load picture: /Users/adminpc-macmini/Library/CloudStorage/GoogleDrive-jeremias.rueck@gmail.com/Meine Ablage/Google Drive - Code/NTHU/final_project/data/subj01/training_split/training_images/3975.png\n",
      "Load picture: /Users/adminpc-macmini/Library/CloudStorage/GoogleDrive-jeremias.rueck@gmail.com/Meine Ablage/Google Drive - Code/NTHU/final_project/data/subj01/training_split/training_images/348.png\n",
      "Load picture: /Users/adminpc-macmini/Library/CloudStorage/GoogleDrive-jeremias.rueck@gmail.com/Meine Ablage/Google Drive - Code/NTHU/final_project/data/subj01/training_split/training_images/1804.png\n",
      "Load picture: /Users/adminpc-macmini/Library/CloudStorage/GoogleDrive-jeremias.rueck@gmail.com/Meine Ablage/Google Drive - Code/NTHU/final_project/data/subj01/training_split/training_images/4968.png\n",
      "Load picture: /Users/adminpc-macmini/Library/CloudStorage/GoogleDrive-jeremias.rueck@gmail.com/Meine Ablage/Google Drive - Code/NTHU/final_project/data/subj01/training_split/training_images/1810.png\n",
      "Load picture: /Users/adminpc-macmini/Library/CloudStorage/GoogleDrive-jeremias.rueck@gmail.com/Meine Ablage/Google Drive - Code/NTHU/final_project/data/subj01/training_split/training_images/3961.png\n"
     ]
    },
    {
     "ename": "KeyboardInterrupt",
     "evalue": "",
     "output_type": "error",
     "traceback": [
      "\u001B[0;31m---------------------------------------------------------------------------\u001B[0m",
      "\u001B[0;31mKeyboardInterrupt\u001B[0m                         Traceback (most recent call last)",
      "\u001B[0;32m<ipython-input-115-7be06afde62a>\u001B[0m in \u001B[0;36m<module>\u001B[0;34m\u001B[0m\n\u001B[0;32m----> 1\u001B[0;31m \u001B[0mimages\u001B[0m\u001B[0;34m,\u001B[0m \u001B[0mfmri\u001B[0m\u001B[0;34m,\u001B[0m \u001B[0mmasks\u001B[0m \u001B[0;34m=\u001B[0m \u001B[0mcombined_data\u001B[0m\u001B[0;34m.\u001B[0m\u001B[0mload\u001B[0m\u001B[0;34m(\u001B[0m\u001B[0;34m)\u001B[0m\u001B[0;34m\u001B[0m\u001B[0;34m\u001B[0m\u001B[0m\n\u001B[0m",
      "\u001B[0;32m<ipython-input-110-7afaced58652>\u001B[0m in \u001B[0;36mload\u001B[0;34m(self, mode)\u001B[0m\n\u001B[1;32m     30\u001B[0m \u001B[0;34m\u001B[0m\u001B[0m\n\u001B[1;32m     31\u001B[0m     \u001B[0;32mif\u001B[0m \u001B[0mmode\u001B[0m \u001B[0;34m==\u001B[0m \u001B[0;34m\"train\"\u001B[0m\u001B[0;34m:\u001B[0m\u001B[0;34m\u001B[0m\u001B[0;34m\u001B[0m\u001B[0m\n\u001B[0;32m---> 32\u001B[0;31m       \u001B[0mself\u001B[0m\u001B[0;34m.\u001B[0m\u001B[0mimages\u001B[0m \u001B[0;34m=\u001B[0m \u001B[0mReadPngFile\u001B[0m\u001B[0;34m(\u001B[0m\u001B[0mos\u001B[0m\u001B[0;34m.\u001B[0m\u001B[0mpath\u001B[0m\u001B[0;34m.\u001B[0m\u001B[0mjoin\u001B[0m\u001B[0;34m(\u001B[0m\u001B[0mROOT_FILE_PATH\u001B[0m\u001B[0;34m,\u001B[0m \u001B[0mself\u001B[0m\u001B[0;34m.\u001B[0m\u001B[0msubject\u001B[0m\u001B[0;34m,\u001B[0m \u001B[0;34m\"training_split\"\u001B[0m\u001B[0;34m,\u001B[0m \u001B[0;34m\"training_images\"\u001B[0m\u001B[0;34m)\u001B[0m\u001B[0;34m)\u001B[0m\u001B[0;34m\u001B[0m\u001B[0;34m\u001B[0m\u001B[0m\n\u001B[0m\u001B[1;32m     33\u001B[0m       \u001B[0mself\u001B[0m\u001B[0;34m.\u001B[0m\u001B[0mfmri\u001B[0m \u001B[0;34m=\u001B[0m \u001B[0mReadNpyFilesOfDir\u001B[0m\u001B[0;34m(\u001B[0m\u001B[0mos\u001B[0m\u001B[0;34m.\u001B[0m\u001B[0mpath\u001B[0m\u001B[0;34m.\u001B[0m\u001B[0mjoin\u001B[0m\u001B[0;34m(\u001B[0m\u001B[0mROOT_FILE_PATH\u001B[0m\u001B[0;34m,\u001B[0m \u001B[0mself\u001B[0m\u001B[0;34m.\u001B[0m\u001B[0msubject\u001B[0m\u001B[0;34m,\u001B[0m \u001B[0;34m\"training_split\"\u001B[0m\u001B[0;34m,\u001B[0m \u001B[0;34m\"training_fmri\"\u001B[0m\u001B[0;34m)\u001B[0m\u001B[0;34m)\u001B[0m\u001B[0;34m\u001B[0m\u001B[0;34m\u001B[0m\u001B[0m\n\u001B[1;32m     34\u001B[0m \u001B[0;34m\u001B[0m\u001B[0m\n",
      "\u001B[0;32m<ipython-input-108-6e9cddc301b1>\u001B[0m in \u001B[0;36mReadPngFile\u001B[0;34m(dir_path)\u001B[0m\n\u001B[1;32m     26\u001B[0m       \u001B[0mdic\u001B[0m\u001B[0;34m[\u001B[0m\u001B[0mindex\u001B[0m\u001B[0;34m]\u001B[0m\u001B[0;34m[\u001B[0m\u001B[0;36m2\u001B[0m\u001B[0;34m]\u001B[0m\u001B[0;34m[\u001B[0m\u001B[0mj\u001B[0m\u001B[0;34m]\u001B[0m \u001B[0;34m=\u001B[0m \u001B[0;34m{\u001B[0m\u001B[0;34m}\u001B[0m\u001B[0;34m\u001B[0m\u001B[0;34m\u001B[0m\u001B[0m\n\u001B[1;32m     27\u001B[0m       \u001B[0;32mfor\u001B[0m \u001B[0mk\u001B[0m \u001B[0;32min\u001B[0m \u001B[0mrange\u001B[0m\u001B[0;34m(\u001B[0m\u001B[0;36m425\u001B[0m\u001B[0;34m)\u001B[0m\u001B[0;34m:\u001B[0m\u001B[0;34m\u001B[0m\u001B[0;34m\u001B[0m\u001B[0m\n\u001B[0;32m---> 28\u001B[0;31m          \u001B[0mdic\u001B[0m\u001B[0;34m[\u001B[0m\u001B[0mindex\u001B[0m\u001B[0;34m]\u001B[0m\u001B[0;34m[\u001B[0m\u001B[0;36m1\u001B[0m\u001B[0;34m]\u001B[0m\u001B[0;34m[\u001B[0m\u001B[0mj\u001B[0m\u001B[0;34m]\u001B[0m\u001B[0;34m[\u001B[0m\u001B[0mk\u001B[0m\u001B[0;34m]\u001B[0m \u001B[0;34m=\u001B[0m \u001B[0;36m0.299\u001B[0m \u001B[0;34m*\u001B[0m \u001B[0mdic\u001B[0m\u001B[0;34m[\u001B[0m\u001B[0mindex\u001B[0m\u001B[0;34m]\u001B[0m\u001B[0;34m[\u001B[0m\u001B[0;36m1\u001B[0m\u001B[0;34m]\u001B[0m\u001B[0;34m[\u001B[0m\u001B[0mj\u001B[0m\u001B[0;34m]\u001B[0m\u001B[0;34m[\u001B[0m\u001B[0mk\u001B[0m\u001B[0;34m]\u001B[0m\u001B[0;34m[\u001B[0m\u001B[0;36m0\u001B[0m\u001B[0;34m]\u001B[0m \u001B[0;34m+\u001B[0m \u001B[0;36m0.587\u001B[0m \u001B[0;34m*\u001B[0m \u001B[0mdic\u001B[0m\u001B[0;34m[\u001B[0m\u001B[0mindex\u001B[0m\u001B[0;34m]\u001B[0m\u001B[0;34m[\u001B[0m\u001B[0;36m1\u001B[0m\u001B[0;34m]\u001B[0m\u001B[0;34m[\u001B[0m\u001B[0mj\u001B[0m\u001B[0;34m]\u001B[0m\u001B[0;34m[\u001B[0m\u001B[0mk\u001B[0m\u001B[0;34m]\u001B[0m\u001B[0;34m[\u001B[0m\u001B[0;36m1\u001B[0m\u001B[0;34m]\u001B[0m \u001B[0;34m+\u001B[0m \u001B[0;36m0.114\u001B[0m \u001B[0;34m*\u001B[0m \u001B[0mdic\u001B[0m\u001B[0;34m[\u001B[0m\u001B[0mindex\u001B[0m\u001B[0;34m]\u001B[0m\u001B[0;34m[\u001B[0m\u001B[0;36m1\u001B[0m\u001B[0;34m]\u001B[0m\u001B[0;34m[\u001B[0m\u001B[0mj\u001B[0m\u001B[0;34m]\u001B[0m\u001B[0;34m[\u001B[0m\u001B[0mk\u001B[0m\u001B[0;34m]\u001B[0m\u001B[0;34m[\u001B[0m\u001B[0;36m2\u001B[0m\u001B[0;34m]\u001B[0m\u001B[0;34m\u001B[0m\u001B[0;34m\u001B[0m\u001B[0m\n\u001B[0m\u001B[1;32m     29\u001B[0m     \u001B[0mindex\u001B[0m \u001B[0;34m+=\u001B[0m \u001B[0;36m1\u001B[0m\u001B[0;34m\u001B[0m\u001B[0;34m\u001B[0m\u001B[0m\n\u001B[1;32m     30\u001B[0m   \u001B[0;32mreturn\u001B[0m \u001B[0mdic\u001B[0m\u001B[0;34m\u001B[0m\u001B[0;34m\u001B[0m\u001B[0m\n",
      "\u001B[0;32m~/opt/anaconda3/lib/python3.7/site-packages/imageio/core/util.py\u001B[0m in \u001B[0;36m__array_finalize__\u001B[0;34m(self, ob)\u001B[0m\n\u001B[1;32m    149\u001B[0m         \u001B[0;32mreturn\u001B[0m \u001B[0mself\u001B[0m\u001B[0;34m.\u001B[0m\u001B[0m_meta\u001B[0m\u001B[0;34m\u001B[0m\u001B[0;34m\u001B[0m\u001B[0m\n\u001B[1;32m    150\u001B[0m \u001B[0;34m\u001B[0m\u001B[0m\n\u001B[0;32m--> 151\u001B[0;31m     \u001B[0;32mdef\u001B[0m \u001B[0m__array_finalize__\u001B[0m\u001B[0;34m(\u001B[0m\u001B[0mself\u001B[0m\u001B[0;34m,\u001B[0m \u001B[0mob\u001B[0m\u001B[0;34m)\u001B[0m\u001B[0;34m:\u001B[0m\u001B[0;34m\u001B[0m\u001B[0;34m\u001B[0m\u001B[0m\n\u001B[0m\u001B[1;32m    152\u001B[0m         \"\"\" So the meta info is maintained when doing calculations with\n\u001B[1;32m    153\u001B[0m         \u001B[0mthe\u001B[0m \u001B[0marray\u001B[0m\u001B[0;34m.\u001B[0m\u001B[0;34m\u001B[0m\u001B[0;34m\u001B[0m\u001B[0m\n",
      "\u001B[0;31mKeyboardInterrupt\u001B[0m: "
     ]
    }
   ],
   "source": [
    "images, fmri, masks = combined_data.load()"
   ],
   "metadata": {
    "collapsed": false,
    "ExecuteTime": {
     "end_time": "2023-11-16T11:10:39.333008Z",
     "start_time": "2023-11-16T11:10:23.389091Z"
    }
   }
  },
  {
   "cell_type": "code",
   "execution_count": null,
   "outputs": [],
   "source": [
    "images"
   ],
   "metadata": {
    "collapsed": false
   }
  },
  {
   "cell_type": "code",
   "execution_count": null,
   "outputs": [],
   "source": [
    "fmri"
   ],
   "metadata": {
    "collapsed": false
   }
  },
  {
   "cell_type": "code",
   "execution_count": null,
   "outputs": [],
   "source": [
    "masks"
   ],
   "metadata": {
    "collapsed": false
   }
  },
  {
   "cell_type": "code",
   "execution_count": null,
   "outputs": [],
   "source": [
    "combined_data.load(subject, temp)\n",
    "\n",
    "combined_data.read_fmri()\n",
    "\n",
    "data_train, data_valid = combined_data.splitted_data(0.9)\n",
    "# np.save('/content/drive/My Drive/Colab Notebooks/data_valid.npy', data_valid)\n",
    "# np.save('/content/drive/My Drive/Colab Notebooks/data_train.npy', data_train)"
   ],
   "metadata": {
    "collapsed": false
   }
  }
 ]
}
