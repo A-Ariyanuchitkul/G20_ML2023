{
 "nbformat": 4,
 "nbformat_minor": 0,
 "metadata": {
  "colab": {
   "provenance": [],
   "authorship_tag": "ABX9TyM/Lg4rnjmApOW7inxpirz5"
  },
  "kernelspec": {
   "name": "python3",
   "display_name": "Python 3"
  },
  "language_info": {
   "name": "python"
  }
 },
 "cells": [
  {
   "cell_type": "code",
   "execution_count": null,
   "metadata": {
    "colab": {
     "base_uri": "https://localhost:8080/"
    },
    "id": "wIve9lCCHY0I",
    "executionInfo": {
     "status": "ok",
     "timestamp": 1700120120513,
     "user_tz": -480,
     "elapsed": 17793,
     "user": {
      "displayName": "黃政倫",
      "userId": "10810828641950182225"
     }
    },
    "outputId": "ca885910-a593-4c50-e571-b2f30b819112"
   },
   "outputs": [],
   "source": [
    "# from google.colab import drive\n",
    "# drive.mount('/content/drive')\n",
    "\n",
    "import glob\n",
    "import imageio.v3 as iio\n",
    "import numpy as np\n",
    "import os\n",
    "import pandas as pd\n",
    "import random"
   ]
  },
  {
   "cell_type": "code",
   "execution_count": null,
   "outputs": [],
   "source": [
    "SUBJ_LIST = [\"subj01\", \"subj02\", \"subj03\", \"subj04\", \"subj05\", \"subj06\", \"subj07\", \"subj08\"]"
   ],
   "metadata": {
    "collapsed": false
   }
  },
  {
   "cell_type": "code",
   "source": [
    "ROOT_FILE_PATH = \"/content/drive/My Drive/Colab Notebooks/2023-Machine-Learning-Dataset\"\n",
    "\n",
    "def ReadNpyFile(dir_path, name):\n",
    "  dic = {}\n",
    "  i = 1\n",
    "  dic[0] = name\n",
    "  for path in glob.glob(dir_path + \"/*.npy\"):\n",
    "    dic[i] = {}\n",
    "    dic[i][0] = path.split(\"/\")[-1]\n",
    "    dic[i][1] = np.load(path, allow_pickle = True)\n",
    "    i += 1\n",
    "  return dic\n",
    "\n",
    "def ReadPngFile(dir_path, feature, table):\n",
    "  dic = {}\n",
    "  i = 0\n",
    "  dic[5000] = feature\n",
    "  for path in glob.glob(dir_path + \"/*.png\"):\n",
    "    dic[i] = {}\n",
    "    dic[i][0] = path.split(\"/\")[-1]\n",
    "    dic[i][1] = iio.imread(path)\n",
    "    dic[i][2] = {}\n",
    "    dic[i][3] = table[i]\n",
    "    for j in range(425):\n",
    "      dic[i][2][j] = {}\n",
    "      for k in range(425):\n",
    "         dic[i][1][j][k] = 0.299 * dic[i][1][j][k][0] + 0.587 * dic[i][1][j][k][1] + 0.114 * dic[i][1][j][k][2]\n",
    "    i += 1\n",
    "  return dic"
   ],
   "metadata": {
    "id": "QyOWt528JgJr",
    "executionInfo": {
     "status": "ok",
     "timestamp": 1700120122828,
     "user_tz": -480,
     "elapsed": 697,
     "user": {
      "displayName": "黃政倫",
      "userId": "10810828641950182225"
     }
    }
   },
   "execution_count": null,
   "outputs": []
  },
  {
   "cell_type": "code",
   "source": [
    "#readme\n",
    "\"\"\"\n",
    "Subject 1-8:\n",
    "\n",
    "image[0-4999] --> [0] --> name\n",
    "                  [1] --> RGB([0-455][0-455]pixel)(value:0-255)\n",
    "                  [2] --> gray scale\n",
    "                  [3] --> tage(133 labels)(0 or 1)\n",
    "                  \n",
    "fmri[0-4999]  --> [0] --> left\n",
    "                  [1] --> right\n",
    "\n",
    "mask[0-31]    --> [0] --> name(type of mask)\n",
    "                  [1] --> np_array\n",
    "\"\"\""
   ],
   "metadata": {
    "id": "TgCkqbsbxDtW"
   },
   "execution_count": null,
   "outputs": []
  },
  {
   "cell_type": "code",
   "source": [
    "class ReadObject:\n",
    "  \n",
    "  subject = None\n",
    "  images = None\n",
    "  fmri = []\n",
    "  fmri_ex = None\n",
    "  masks = None\n",
    "  image_data = None\n",
    "  table = None\n",
    "\n",
    "  def get_info(self, subject):\n",
    "    \n",
    "    self.table = {}\n",
    "    image_data = pd.read_csv(os.path.join(ROOT_FILE_PATH, \"image_infos\", f\"{subject}_infos_train.csv\"))\n",
    "\n",
    "    for i in range(5000):\n",
    "      \n",
    "      self.table[i] = {}\n",
    "      \n",
    "      j = 2\n",
    "      for feature in image_data.columns:\n",
    "        \n",
    "        if j > 0:\n",
    "          j -= 1\n",
    "          continue\n",
    "            \n",
    "        self.table[i] = np.array(int(image_data.loc[i, feature]))\n",
    "        eat = [feature]\n",
    "        outp = np.array(eat)\n",
    "            \n",
    "    return outp\n",
    "\n",
    "  ## Mode = \"train\" | \"test\"\n",
    "  def load(self, subject, temp, mode = \"train\"):\n",
    "    \n",
    "    if subject != self.subject:\n",
    "      self.subject = subject\n",
    "      self.masks = ReadNpyFile(os.path.join(ROOT_FILE_PATH, subject , \"roi_masks\"), \"roi_masks\")\n",
    "\n",
    "    if mode == \"train\":\n",
    "      self.images = ReadPngFile(os.path.join(ROOT_FILE_PATH, subject, \"training_split\", \"training_images\"), temp, self.table)\n",
    "      self.fmri_ex = ReadNpyFile(os.path.join(ROOT_FILE_PATH, subject, \"training_split\", \"training_fmri\"))\n",
    "\n",
    "    elif mode == \"test\":\n",
    "      self.images = None\n",
    "      self.fmri_ex = ReadNpyFile(os.path.join(ROOT_FILE_PATH, subject, \"test_split\", \"test_fmri\"))\n",
    "\n",
    "  ## batch_number = probability of\n",
    "  def split_data(self, batch_number = 1):\n",
    "    training_set = []\n",
    "    validation_set = []\n",
    "    for i in range(5000):\n",
    "        eat = random.random()\n",
    "        if eat < batch_number:\n",
    "            training_set.append(self.image[i])\n",
    "        else:\n",
    "            validation_set.append(self.image[i])\n",
    "    training_set = np.array(training_set)\n",
    "    validation_set =np.array(validation_set)\n",
    "    return training_set, validation_set\n",
    "\n",
    "  def read_fmri(self):\n",
    "    for i in range(5000):\n",
    "      self.fmri[i] = []\n",
    "      self.fmri[i][0] = self.fmri_ex[0][1][i]  #left\n",
    "      self.fmri[i][1] = self.fmri_ex[1][1][i]  #right"
   ],
   "metadata": {
    "id": "Ok6Dln5OicsR",
    "executionInfo": {
     "status": "ok",
     "timestamp": 1700120126551,
     "user_tz": -480,
     "elapsed": 303,
     "user": {
      "displayName": "黃政倫",
      "userId": "10810828641950182225"
     }
    }
   },
   "execution_count": null,
   "outputs": []
  },
  {
   "cell_type": "code",
   "source": [
    "combined_data = ReadObject()\n",
    "\n",
    "subject = SUBJ_LIST[0]\n",
    "\n",
    "temp = combined_data.get_info(subject)\n",
    "combined_data.load(subject, temp)\n",
    "\n",
    "combined_data.read_fmri()\n",
    "\n",
    "data_train, data_valid = combined_data.splitted_data(0.9)\n",
    "# np.save('/content/drive/My Drive/Colab Notebooks/data_valid.npy', data_valid)\n",
    "# np.save('/content/drive/My Drive/Colab Notebooks/data_train.npy', data_train)"
   ],
   "metadata": {
    "id": "qjSLJsHljCZY"
   },
   "execution_count": null,
   "outputs": []
  }
 ]
}
