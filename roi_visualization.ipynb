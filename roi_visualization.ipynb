{
 "cells": [
  {
   "cell_type": "markdown",
   "metadata": {
    "id": "jIGY1rzfMV8A"
   },
   "source": [
    "### Visualization example"
   ]
  },
  {
   "cell_type": "code",
   "execution_count": null,
   "metadata": {
    "id": "dDXFuQVAMXeQ",
    "is_executing": true
   },
   "outputs": [],
   "source": [
    "# from google.colab import drive\n",
    "# drive.mount('/content/drive')"
   ]
  },
  {
   "cell_type": "code",
   "execution_count": 1,
   "metadata": {
    "id": "qvQO3GSRMfyf"
   },
   "outputs": [
    {
     "name": "stdout",
     "output_type": "stream",
     "text": [
      "Note: you may need to restart the kernel to use updated packages.Defaulting to user installation because normal site-packages is not writeable\n",
      "Collecting nilearn\n",
      "  Downloading nilearn-0.10.2-py3-none-any.whl (10.4 MB)\n",
      "     ---------------------------------------- 10.4/10.4 MB 5.2 MB/s eta 0:00:00\n",
      "Requirement already satisfied: numpy>=1.19.0 in c:\\users\\user\\appdata\\roaming\\python\\python39\\site-packages (from nilearn) (1.26.3)\n",
      "Requirement already satisfied: packaging in c:\\users\\user\\appdata\\roaming\\python\\python39\\site-packages (from nilearn) (23.2)\n",
      "Requirement already satisfied: scipy>=1.6.0 in c:\\users\\user\\appdata\\roaming\\python\\python39\\site-packages (from nilearn) (1.11.4)\n",
      "Requirement already satisfied: nibabel>=3.2.0 in c:\\users\\user\\appdata\\roaming\\python\\python39\\site-packages (from nilearn) (5.2.0)\n",
      "Requirement already satisfied: requests>=2.25.0 in c:\\users\\user\\appdata\\roaming\\python\\python39\\site-packages (from nilearn) (2.31.0)\n",
      "Requirement already satisfied: scikit-learn>=1.0.0 in c:\\users\\user\\appdata\\roaming\\python\\python39\\site-packages (from nilearn) (1.3.2)\n",
      "Requirement already satisfied: pandas>=1.1.5 in c:\\users\\user\\appdata\\roaming\\python\\python39\\site-packages (from nilearn) (2.1.4)\n",
      "Collecting lxml\n",
      "  Downloading lxml-5.0.0-cp39-cp39-win_amd64.whl (4.0 MB)\n",
      "     ---------------------------------------- 4.0/4.0 MB 7.1 MB/s eta 0:00:00\n",
      "Requirement already satisfied: joblib>=1.0.0 in c:\\users\\user\\appdata\\roaming\\python\\python39\\site-packages (from nilearn) (1.3.2)\n",
      "Requirement already satisfied: python-dateutil>=2.8.2 in c:\\users\\user\\appdata\\roaming\\python\\python39\\site-packages (from pandas>=1.1.5->nilearn) (2.8.2)\n",
      "Requirement already satisfied: pytz>=2020.1 in c:\\users\\user\\appdata\\roaming\\python\\python39\\site-packages (from pandas>=1.1.5->nilearn) (2023.3.post1)\n",
      "Requirement already satisfied: tzdata>=2022.1 in c:\\users\\user\\appdata\\roaming\\python\\python39\\site-packages (from pandas>=1.1.5->nilearn) (2023.4)\n",
      "Requirement already satisfied: certifi>=2017.4.17 in c:\\users\\user\\appdata\\roaming\\python\\python39\\site-packages (from requests>=2.25.0->nilearn) (2023.7.22)\n",
      "Requirement already satisfied: urllib3<3,>=1.21.1 in c:\\users\\user\\appdata\\roaming\\python\\python39\\site-packages (from requests>=2.25.0->nilearn) (2.0.7)\n",
      "Requirement already satisfied: idna<4,>=2.5 in c:\\users\\user\\appdata\\roaming\\python\\python39\\site-packages (from requests>=2.25.0->nilearn) (3.4)\n",
      "Requirement already satisfied: charset-normalizer<4,>=2 in c:\\users\\user\\appdata\\roaming\\python\\python39\\site-packages (from requests>=2.25.0->nilearn) (3.3.2)\n",
      "Requirement already satisfied: threadpoolctl>=2.0.0 in c:\\users\\user\\appdata\\roaming\\python\\python39\\site-packages (from scikit-learn>=1.0.0->nilearn) (3.2.0)\n",
      "Requirement already satisfied: six>=1.5 in c:\\users\\user\\appdata\\roaming\\python\\python39\\site-packages (from python-dateutil>=2.8.2->pandas>=1.1.5->nilearn) (1.16.0)\n",
      "Installing collected packages: lxml, nilearn\n",
      "Successfully installed lxml-5.0.0 nilearn-0.10.2\n",
      "\n"
     ]
    },
    {
     "name": "stderr",
     "output_type": "stream",
     "text": [
      "WARNING: You are using pip version 22.0.4; however, version 23.3.2 is available.\n",
      "You should consider upgrading via the 'c:\\Program Files (x86)\\Microsoft Visual Studio\\Shared\\Python39_64\\python.exe -m pip install --upgrade pip' command.\n"
     ]
    }
   ],
   "source": [
    "%pip install nilearn"
   ]
  },
  {
   "cell_type": "code",
   "execution_count": null,
   "metadata": {
    "collapsed": false,
    "is_executing": true
   },
   "outputs": [],
   "source": [
    "import sys\n",
    "sys.executable"
   ]
  },
  {
   "cell_type": "code",
   "execution_count": 2,
   "metadata": {
    "ExecuteTime": {
     "end_time": "2023-11-01T13:08:28.828099400Z",
     "start_time": "2023-11-01T13:08:24.609097800Z"
    },
    "id": "mK3nm8H8MV8D"
   },
   "outputs": [],
   "source": [
    "import os\n",
    "import numpy as np\n",
    "from pathlib import Path\n",
    "from PIL import Image\n",
    "import matplotlib\n",
    "from matplotlib import pyplot as plt\n",
    "from nilearn import datasets\n",
    "from nilearn import plotting"
   ]
  },
  {
   "cell_type": "code",
   "execution_count": null,
   "metadata": {
    "id": "ec943eGLMV8E"
   },
   "outputs": [],
   "source": [
    "data_dir = \"/content/drive/MyDrive/Google Drive - Code/NTHU/Final project/data\""
   ]
  },
  {
   "cell_type": "code",
   "execution_count": null,
   "metadata": {
    "id": "J4w4BGGhMV8F"
   },
   "outputs": [],
   "source": [
    "subj = 'subj01'"
   ]
  },
  {
   "cell_type": "code",
   "execution_count": null,
   "metadata": {
    "id": "5J7UtlvHMV8F"
   },
   "outputs": [],
   "source": [
    "hemisphere = 'left' # left/right\n",
    "\n",
    "roi_dir = os.path.join(data_dir, subj, 'roi_masks', hemisphere[0] + 'h.all-vertices_fsaverage_space.npy')\n",
    "fsaverage_all_vertices = np.load(roi_dir)\n",
    "\n",
    "fsaverage = datasets.fetch_surf_fsaverage('fsaverage')\n",
    "\n",
    "# 3D:infl_right / infl_left, 2D:flat_right / flat_left\n",
    "view = plotting.view_surf(\n",
    "    surf_mesh = fsaverage['infl_' + hemisphere],\n",
    "    surf_map = fsaverage_all_vertices,\n",
    "    bg_map = fsaverage['sulc_' + hemisphere],\n",
    "    threshold=1e-14, cmap='cool', colorbar=False,\n",
    "    title=f'All fsaverage vertices, {hemisphere} hemisphere')\n",
    "\n",
    "view"
   ]
  }
 ],
 "metadata": {
  "colab": {
   "provenance": []
  },
  "kernelspec": {
   "display_name": "scaling_vis_enc",
   "language": "python",
   "name": "python3"
  },
  "language_info": {
   "codemirror_mode": {
    "name": "ipython",
    "version": 3
   },
   "file_extension": ".py",
   "mimetype": "text/x-python",
   "name": "python",
   "nbconvert_exporter": "python",
   "pygments_lexer": "ipython3",
   "version": "3.9.13"
  }
 },
 "nbformat": 4,
 "nbformat_minor": 0
}
