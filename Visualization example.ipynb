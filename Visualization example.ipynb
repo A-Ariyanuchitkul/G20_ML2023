{
 "cells": [
  {
   "cell_type": "markdown",
   "metadata": {},
   "source": [
    "### Visualization example"
   ]
  },
  {
   "cell_type": "code",
   "execution_count": 2,
   "metadata": {
    "ExecuteTime": {
     "end_time": "2023-11-01T13:08:28.828099400Z",
     "start_time": "2023-11-01T13:08:24.609097800Z"
    }
   },
   "outputs": [
    {
     "name": "stderr",
     "output_type": "stream",
     "text": [
      "C:\\Users\\Jerem\\Code\\Libraries\\python_default_venv\\lib\\site-packages\\nilearn\\__init__.py:67: FutureWarning: Python 3.7 support is deprecated and will be removed in release 0.12 of Nilearn. Consider switching to Python 3.9 or 3.10.\n",
      "  _python_deprecation_warnings()\n"
     ]
    }
   ],
   "source": [
    "import os\n",
    "import numpy as np\n",
    "from pathlib import Path\n",
    "from PIL import Image\n",
    "import matplotlib\n",
    "from matplotlib import pyplot as plt\n",
    "from nilearn import datasets\n",
    "from nilearn import plotting"
   ]
  },
  {
   "cell_type": "code",
   "execution_count": 2,
   "metadata": {},
   "outputs": [],
   "source": [
    "data_dir = \"D:\\ScalingVisionEncoder-main\\data\\ML\""
   ]
  },
  {
   "cell_type": "code",
   "execution_count": 3,
   "metadata": {},
   "outputs": [],
   "source": [
    "subj = 'subj01'"
   ]
  },
  {
   "cell_type": "code",
   "execution_count": null,
   "metadata": {},
   "outputs": [],
   "source": [
    "hemisphere = 'left' # left/right\n",
    "\n",
    "roi_dir = os.path.join(data_dir, subj, 'roi_masks', hemisphere[0]+'h.all-vertices_fsaverage_space.npy')\n",
    "fsaverage_all_vertices = np.load(roi_dir)\n",
    "\n",
    "fsaverage = datasets.fetch_surf_fsaverage('fsaverage')\n",
    "view = plotting.view_surf(\n",
    "    surf_mesh=fsaverage['infl_' + hemisphere], # 3D:infl_right / infl_left, 2D:flat_right / flat_left\n",
    "    surf_map=fsaverage_all_vertices,\n",
    "    bg_map=fsaverage['sulc_' + hemisphere],\n",
    "    threshold=1e-14,\n",
    "    cmap='cool',\n",
    "    colorbar=False,\n",
    "    title=f'All fsaverage vertices, {hemisphere} hemisphere'\n",
    "    )\n",
    "view"
   ]
  },
  {
   "cell_type": "code",
   "execution_count": null,
   "metadata": {},
   "outputs": [],
   "source": []
  }
 ],
 "metadata": {
  "kernelspec": {
   "display_name": "scaling_vis_enc",
   "language": "python",
   "name": "python3"
  },
  "language_info": {
   "codemirror_mode": {
    "name": "ipython",
    "version": 3
   },
   "file_extension": ".py",
   "mimetype": "text/x-python",
   "name": "python",
   "nbconvert_exporter": "python",
   "pygments_lexer": "ipython3",
   "version": "3.8.0"
  }
 },
 "nbformat": 4,
 "nbformat_minor": 2
}
